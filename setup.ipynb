{
 "cells": [
  {
   "cell_type": "markdown",
   "id": "8f00e31d",
   "metadata": {},
   "source": [
    "## Set up the environment and prepare the data"
   ]
  },
  {
   "cell_type": "markdown",
   "id": "2e5931ec",
   "metadata": {},
   "source": [
    "### Install the necessary python packages"
   ]
  },
  {
   "cell_type": "code",
   "execution_count": null,
   "id": "f09cb08f",
   "metadata": {},
   "outputs": [],
   "source": [
    "%pip install pandas\n",
    "%pip install numpy\n",
    "%pip install whoosh"
   ]
  },
  {
   "cell_type": "markdown",
   "id": "2e24d5aa",
   "metadata": {},
   "source": [
    "### Imports"
   ]
  },
  {
   "cell_type": "code",
   "execution_count": 41,
   "id": "d147d7a2",
   "metadata": {
    "ExecuteTime": {
     "end_time": "2024-03-12T17:39:40.204587Z",
     "start_time": "2024-03-12T17:39:32.830101Z"
    }
   },
   "outputs": [],
   "source": [
    "import os\n",
    "import pandas as pd\n",
    "import re\n",
    "from tqdm.notebook import tqdm"
   ]
  },
  {
   "cell_type": "markdown",
   "id": "1c16a835",
   "metadata": {},
   "source": [
    "### Parse the wiki files into a dataframe and save it"
   ]
  },
  {
   "cell_type": "code",
   "execution_count": 20,
   "id": "075891c9",
   "metadata": {
    "ExecuteTime": {
     "end_time": "2024-03-12T17:39:40.228588Z",
     "start_time": "2024-03-12T17:39:40.204587Z"
    }
   },
   "outputs": [],
   "source": [
    "def parse_wiki_file(content):\n",
    "    titles, text = [], []\n",
    "    start = -1\n",
    "    content = re.sub(\"\\[\\[File: .*\\]\\]\", \"[[[File: \\1]]]\", content) # wrap file links in triple brackets to avoid parsing\n",
    "    for match in re.finditer(\"^\\[\\[(.*)\\]\\]\\n\\n\", content, re.MULTILINE):\n",
    "        titles.append(match.group(1))\n",
    "        if start > -1:\n",
    "            text.append(re.sub(\"\\[\\[\\[File: (.*)\\]\\]\\]\", \"[[File: \\1]]\", content[start:match.start()]))\n",
    "        start = match.end()\n",
    "    text.append(content[start:])\n",
    "    assert len(titles) == len(text)\n",
    "    return list(zip(titles, text))"
   ]
  },
  {
   "cell_type": "code",
   "execution_count": 33,
   "id": "4c223279",
   "metadata": {
    "ExecuteTime": {
     "end_time": "2024-03-12T17:45:32.219153Z",
     "start_time": "2024-03-12T17:43:07.671338Z"
    }
   },
   "outputs": [
    {
     "data": {
      "text/html": [
       "<div>\n",
       "<style scoped>\n",
       "    .dataframe tbody tr th:only-of-type {\n",
       "        vertical-align: middle;\n",
       "    }\n",
       "\n",
       "    .dataframe tbody tr th {\n",
       "        vertical-align: top;\n",
       "    }\n",
       "\n",
       "    .dataframe thead th {\n",
       "        text-align: right;\n",
       "    }\n",
       "</style>\n",
       "<table border=\"1\" class=\"dataframe\">\n",
       "  <thead>\n",
       "    <tr style=\"text-align: right;\">\n",
       "      <th></th>\n",
       "      <th>file_id</th>\n",
       "      <th>title</th>\n",
       "      <th>text</th>\n",
       "    </tr>\n",
       "  </thead>\n",
       "  <tbody>\n",
       "    <tr>\n",
       "      <th>0</th>\n",
       "      <td>0005</td>\n",
       "      <td>BBS</td>\n",
       "      <td>BBS may refer to:\\n\\n==Technologies==\\n\\n==Org...</td>\n",
       "    </tr>\n",
       "    <tr>\n",
       "      <th>1</th>\n",
       "      <td>0005</td>\n",
       "      <td>British Standards</td>\n",
       "      <td>CATEGORIES: 1901 establishments in the United ...</td>\n",
       "    </tr>\n",
       "    <tr>\n",
       "      <th>2</th>\n",
       "      <td>0005</td>\n",
       "      <td>Building society</td>\n",
       "      <td>CATEGORIES: Building societies, Cooperatives, ...</td>\n",
       "    </tr>\n",
       "    <tr>\n",
       "      <th>3</th>\n",
       "      <td>0005</td>\n",
       "      <td>Blue Steel (missile)</td>\n",
       "      <td>CATEGORIES: Cold War air-to-surface missiles o...</td>\n",
       "    </tr>\n",
       "    <tr>\n",
       "      <th>4</th>\n",
       "      <td>0005</td>\n",
       "      <td>Branch Davidians</td>\n",
       "      <td>CATEGORIES: Branch Davidianism, Adventism, Chr...</td>\n",
       "    </tr>\n",
       "  </tbody>\n",
       "</table>\n",
       "</div>"
      ],
      "text/plain": [
       "  file_id                 title  \\\n",
       "0    0005                   BBS   \n",
       "1    0005     British Standards   \n",
       "2    0005      Building society   \n",
       "3    0005  Blue Steel (missile)   \n",
       "4    0005      Branch Davidians   \n",
       "\n",
       "                                                text  \n",
       "0  BBS may refer to:\\n\\n==Technologies==\\n\\n==Org...  \n",
       "1  CATEGORIES: 1901 establishments in the United ...  \n",
       "2  CATEGORIES: Building societies, Cooperatives, ...  \n",
       "3  CATEGORIES: Cold War air-to-surface missiles o...  \n",
       "4  CATEGORIES: Branch Davidianism, Adventism, Chr...  "
      ]
     },
     "execution_count": 33,
     "metadata": {},
     "output_type": "execute_result"
    }
   ],
   "source": [
    "wiki_dir = \"./data/wiki\"\n",
    "data = {\"file_id\": [], \"title\": [], \"text\": []}\n",
    "redirects = {\"file_id\": [], \"title\": [], \"text\": [], \"redirect\": []}\n",
    "for fname in [f for f in os.listdir(wiki_dir) if not f.startswith(\"._\")]:\n",
    "    with open(os.path.join(wiki_dir, fname), \"r\", encoding=\"utf-8\") as file:\n",
    "        content = file.read()\n",
    "    \n",
    "    fid = fname.split(\"-\")[-1].replace(\".txt\", \"\")\n",
    "    for title, text in parse_wiki_file(content):\n",
    "        \n",
    "        if text.startswith(\"#REDIRECT\"):\n",
    "            redirect = re.sub(\"\\[tpl\\].*\\[/tpl\\]\", \"\", text.replace(\"#REDIRECT\", \"\")).strip()\n",
    "            redirects[\"file_id\"].append(fid)\n",
    "            redirects[\"title\"].append(title)\n",
    "            redirects[\"text\"].append(text)\n",
    "            redirects[\"redirect\"].append(redirect)\n",
    "        else:\n",
    "            data[\"file_id\"].append(fid)\n",
    "            data[\"title\"].append(title)\n",
    "            data[\"text\"].append(text)\n",
    "wiki_df = pd.DataFrame(data)\n",
    "wiki_redirects_df = pd.DataFrame(redirects)\n",
    "wiki_df.head()"
   ]
  },
  {
   "cell_type": "code",
   "execution_count": 20,
   "id": "7722807d",
   "metadata": {},
   "outputs": [],
   "source": [
    "# manually fix small inconsistencies in the data\n",
    "# wiki_df.loc[wiki_df[\"title\"] == \"Bell Curve\", \"redirect\"] = \"Bell curve\""
   ]
  },
  {
   "cell_type": "code",
   "execution_count": 42,
   "id": "bd8f23ec",
   "metadata": {},
   "outputs": [
    {
     "data": {
      "application/vnd.jupyter.widget-view+json": {
       "model_id": "9f5d8630f0154c4fa100ef6783d2b31d",
       "version_major": 2,
       "version_minor": 0
      },
      "text/plain": [
       "  0%|          | 0/127899 [00:00<?, ?it/s]"
      ]
     },
     "metadata": {},
     "output_type": "display_data"
    }
   ],
   "source": [
    "# for each redirect, find the index of the redirected page for faster lookup\n",
    "def find_redirect_index(redirect):\n",
    "    redirect_row = wiki_df[wiki_df[\"title\"] == redirect]\n",
    "    if redirect_row.empty:\n",
    "        return -1\n",
    "    if redirect_row.shape[0] > 1:\n",
    "        raise ValueError(f\"Multiple redirects found for {redirect}\")\n",
    "    \n",
    "    redirect_row = redirect_row.iloc[0]\n",
    "    return redirect_row.index[0]\n",
    "    \n",
    "redirect_indexes = []\n",
    "no_matches = []\n",
    "for redirect in tqdm(wiki_redirects_df[\"redirect\"]):\n",
    "    index = find_redirect_index(redirect)\n",
    "    if index == -1:\n",
    "        no_matches.append(redirect)\n",
    "    redirect_indexes.append(index)"
   ]
  },
  {
   "cell_type": "code",
   "execution_count": 4,
   "id": "35414787",
   "metadata": {},
   "outputs": [
    {
     "data": {
      "text/plain": [
       "'n = 295581'"
      ]
     },
     "execution_count": 4,
     "metadata": {},
     "output_type": "execute_result"
    }
   ],
   "source": [
    "wiki_df.to_pickle(\"./data/wiki.pkl\")\n",
    "len(wiki_df.index)"
   ]
  },
  {
   "cell_type": "code",
   "execution_count": null,
   "id": "a9645db2",
   "metadata": {},
   "outputs": [],
   "source": [
    "wiki_redirects_df.to_pickle(\"./data/wiki_redirects.pkl\")\n",
    "len(wiki_redirects_df.index)"
   ]
  },
  {
   "cell_type": "markdown",
   "id": "1b121799",
   "metadata": {},
   "source": [
    "### Parse the [questions.txt](./data/questions.txt) file into a dataframe and save it"
   ]
  },
  {
   "cell_type": "code",
   "execution_count": null,
   "id": "2d91846c",
   "metadata": {},
   "outputs": [],
   "source": [
    "with open(\"./data/questions.txt\", \"r\") as file:\n",
    "    questions = file.read().split(\"\\n\\n\")\n",
    "data = {\"category\": [], \"question\": []}\n",
    "for question in questions:\n",
    "    question = question.split(\"\\n\")\n",
    "    data[\"category\"].append(question[0])\n",
    "    data[\"question\"].append(\" \".join(question[1:]))\n",
    "questions_df = pd.DataFrame(data)\n",
    "questions_df.head()"
   ]
  },
  {
   "cell_type": "code",
   "execution_count": null,
   "id": "2f9ccda6",
   "metadata": {},
   "outputs": [],
   "source": [
    "questions_df.to_pickle(\"./data/questions.pkl\")\n",
    "len(questions_df.index)"
   ]
  }
 ],
 "metadata": {
  "kernelspec": {
   "display_name": "Python 3 (ipykernel)",
   "language": "python",
   "name": "python3"
  },
  "language_info": {
   "codemirror_mode": {
    "name": "ipython",
    "version": 3
   },
   "file_extension": ".py",
   "mimetype": "text/x-python",
   "name": "python",
   "nbconvert_exporter": "python",
   "pygments_lexer": "ipython3",
   "version": "3.10.11"
  }
 },
 "nbformat": 4,
 "nbformat_minor": 5
}
