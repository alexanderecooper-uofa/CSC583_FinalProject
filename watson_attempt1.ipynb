{
 "cells": [
  {
   "cell_type": "markdown",
   "id": "9cc1f222",
   "metadata": {},
   "source": [
    "# Watson Attempt 1"
   ]
  },
  {
   "cell_type": "markdown",
   "id": "d0faa1e4",
   "metadata": {},
   "source": [
    "### Imports"
   ]
  },
  {
   "cell_type": "code",
   "execution_count": null,
   "id": "15a2236b",
   "metadata": {},
   "outputs": [],
   "source": [
    "import os\n",
    "import shutil\n",
    "import sys\n",
    "\n",
    "from whoosh.fields import Schema, TEXT, ID\n",
    "from whoosh.index import create_in, open_dir, exists_in\n",
    "from whoosh.qparser import QueryParser, OrGroup\n",
    "from whoosh.scoring import BM25F\n",
    "from whoosh.analysis import RegexTokenizer, LowercaseFilter"
   ]
  },
  {
   "cell_type": "code",
   "execution_count": null,
   "id": "2c00be79",
   "metadata": {},
   "outputs": [],
   "source": [
    "from env import env\n",
    "from shared import get_wiki_df, get_questions_df, LemmatizeFilter, filter_query, transform_category"
   ]
  },
  {
   "cell_type": "markdown",
   "id": "548f9a34",
   "metadata": {},
   "source": [
    "### Define the Watson class"
   ]
  },
  {
   "cell_type": "code",
   "execution_count": null,
   "id": "b85b91b7",
   "metadata": {},
   "outputs": [],
   "source": [
    "class Watson:\n",
    "    def __init__(self):\n",
    "        self.questions_df = get_questions_df()\n",
    "        self.Q = len(self.questions_df.index)\n",
    "        self._analyzer = self._build_analyzer()\n",
    "        self._index = self._build_index()\n",
    "        self._parser = self._build_parser()\n",
    "\n",
    "    # builds the analyzer\n",
    "    def _build_analyzer(self):\n",
    "        return RegexTokenizer() | LowercaseFilter() | LemmatizeFilter()\n",
    "\n",
    "    # builds the index\n",
    "    def _build_index(self):\n",
    "        if exists_in(env.index_path):\n",
    "            ix = open_dir(env.index_path)\n",
    "        else:\n",
    "            if os.path.exists(env.index_path):\n",
    "                shutil.rmtree(env.index_path)\n",
    "            os.mkdir(env.index_path)\n",
    "            schema = Schema(title=ID(stored=True),  \n",
    "                    titles=TEXT(analyzer=self._analyzer), \n",
    "                    categories=TEXT(analyzer=self._analyzer), \n",
    "                    content=TEXT(analyzer=self._analyzer))\n",
    "            ix = create_in(env.index_path, schema)\n",
    "            with ix.writer() as writer:\n",
    "                for _, row in get_wiki_df().iterrows():\n",
    "                    writer.add_document(title=row.title, content=row.text)\n",
    "        return ix\n",
    "\n",
    "    # builds the parser\n",
    "    def _build_parser(self):\n",
    "        og = OrGroup.factory(0.9)\n",
    "        return QueryParser(\"content\", schema=self._index.schema, group=og)\n",
    "\n",
    "    # searches the index for the category and question provided\n",
    "    def search(self, category, question, scorer=BM25F):\n",
    "        category = transform_category(category)\n",
    "        question = filter_query(question)\n",
    "        query = self._parser.parse(category + \" \" + question)\n",
    "        with self._index.searcher(weighting=scorer()) as searcher:\n",
    "            results = searcher.search(query, limit=None)\n",
    "            if results.scored_length() == 0:\n",
    "                return None\n",
    "            return [(r[\"title\"], r.rank+1) for r in results]\n",
    "\n",
    "    # tests the system using MRR or precison at 1\n",
    "    def test(self, scorer=BM25F, eval=\"mrr\"):\n",
    "        if eval == \"mrr\":\n",
    "            mrr = 0.0\n",
    "            for _, row in self.questions_df.iterrows():\n",
    "                results = self.search(row.category, row.question, scorer)\n",
    "                rank = Watson.get_rank(results, row.answer)\n",
    "                if rank > 0:\n",
    "                    mrr += 1 / rank\n",
    "            mrr /= self.Q\n",
    "            return mrr\n",
    "        elif eval == \"p@1\":\n",
    "            correct = 0\n",
    "            for _, row in self.questions_df.iterrows():\n",
    "                results = self.search(row.category, row.question, scorer)\n",
    "                if Watson.is_correct(results, row.answer):\n",
    "                    correct += 1\n",
    "            return correct / self.Q\n",
    "        else:\n",
    "            raise Exception(f\"unrecognized evaluation type: {eval}\")\n",
    "\n",
    "    # gets the rank of an answer\n",
    "    @staticmethod\n",
    "    def get_rank(results, answer):\n",
    "        for answer_variant in answer.split(\"|\"):\n",
    "            for (doc_title, rank) in results:\n",
    "                if doc_title.lower() == answer_variant.lower():\n",
    "                    return rank\n",
    "        return 0\n",
    "\n",
    "    # determines if an answer is correct\n",
    "    @staticmethod\n",
    "    def is_correct(results, answer):\n",
    "        guess, _ = results[0]\n",
    "        for answer_variant in answer.split(\"|\"):\n",
    "            if answer_variant.lower() == guess.lower():\n",
    "                return True\n",
    "        return False\n",
    "\n",
    "    # gets the guess from an element in the results list\n",
    "    @staticmethod\n",
    "    def get_guess(results):\n",
    "        guess, _ = results[0]\n",
    "        return guess\n",
    "    "
   ]
  },
  {
   "cell_type": "markdown",
   "id": "43eba4d2",
   "metadata": {},
   "source": [
    "### Instantiate Watson"
   ]
  },
  {
   "cell_type": "code",
   "execution_count": null,
   "id": "95661e01",
   "metadata": {},
   "outputs": [],
   "source": [
    "watson = Watson()"
   ]
  },
  {
   "cell_type": "markdown",
   "id": "faed97a7",
   "metadata": {},
   "source": [
    "### Test Watson"
   ]
  },
  {
   "cell_type": "code",
   "execution_count": null,
   "id": "8cce1bd4",
   "metadata": {},
   "outputs": [],
   "source": [
    "mrr_score = watson.test(eval=\"mrr\")\n",
    "mrr_score"
   ]
  },
  {
   "cell_type": "code",
   "execution_count": null,
   "id": "6d46c454",
   "metadata": {},
   "outputs": [],
   "source": [
    "pa1_score = watson.test(eval=\"p@1\")\n",
    "pa1_score"
   ]
  },
  {
   "cell_type": "markdown",
   "id": "8d9409e7",
   "metadata": {},
   "source": [
    "### Perform Error Analysis"
   ]
  },
  {
   "cell_type": "code",
   "execution_count": null,
   "id": "66084e04",
   "metadata": {},
   "outputs": [],
   "source": [
    "correct = []\n",
    "incorrect = []\n",
    "for _, row in get_questions_df().iterrows():\n",
    "    results = watson.search(row.category, row.question)\n",
    "    guess = Watson.get_guess(results)\n",
    "    if Watson.is_correct(results, row.answer):\n",
    "        correct.append((row, guess))\n",
    "    else:\n",
    "        incorrect.append((row, guess))"
   ]
  },
  {
   "cell_type": "code",
   "execution_count": null,
   "id": "cf60fdae",
   "metadata": {},
   "outputs": [],
   "source": [
    "len(correct), len(correct) + len(incorrect)"
   ]
  },
  {
   "cell_type": "code",
   "execution_count": null,
   "id": "1fd81577",
   "metadata": {},
   "outputs": [],
   "source": [
    "def get_wiki_page(title):\n",
    "    page = wiki_df[wiki_df.title == title]\n",
    "    text = page.text.to_numpy()\n",
    "    if len(text) == 0:\n",
    "        return None\n",
    "    return text[0]\n",
    "\n",
    "def log_result(r, file=sys.stdout):\n",
    "    q, g = r\n",
    "    file.write(\"   CATEGORY: \" + q.category + \"\\n\")\n",
    "    file.write(\"   QUESTION: \" + q.question + \"\\n\")\n",
    "    file.write(\"     ANSWER: \" + q.answer + \"\\n\") \n",
    "    file.write(\"      GUESS: \" + g + \"\\n\")\n",
    "    file.write(\"ANSWER TEXT:\\n\\n\")\n",
    "    answer_text = None\n",
    "    for answer in q.answer.split(\"|\"):\n",
    "        answer_text = get_wiki_page(answer)\n",
    "        if answer_text is not None:\n",
    "            break\n",
    "    if answer_text is None:\n",
    "        print(f\"NO RESULTS FOR {q.answer}\")\n",
    "        answer_text = \"\"\n",
    "    file.write(answer_text)\n",
    "    if g.lower() not in q.answer.lower():\n",
    "        file.write(\"\\n\\n\")\n",
    "        file.write(\" GUESS TEXT:\\n\\n\")                     \n",
    "    file.write(get_wiki_page(g))\n",
    "    file.write(\"\\n\\n\\n\")"
   ]
  },
  {
   "cell_type": "code",
   "execution_count": null,
   "id": "9ba04803",
   "metadata": {},
   "outputs": [],
   "source": [
    "ncorrect = 5\n",
    "nincorrect = 15\n",
    "if not os.path.exists(\"logs\"):\n",
    "    os.mkdir(\"logs\")"
   ]
  },
  {
   "cell_type": "code",
   "execution_count": null,
   "id": "60d174d7",
   "metadata": {},
   "outputs": [],
   "source": [
    "if not os.path.exists(\"logs/correct\"):\n",
    "    os.mkdir(\"logs/correct\")\n",
    "\n",
    "for i in range(0, len(correct), len(correct) // ncorrect):\n",
    "    with open(f\"logs/correct/{i}.txt\", \"w\") as file:\n",
    "        log_result(correct[i], file=file)"
   ]
  },
  {
   "cell_type": "code",
   "execution_count": null,
   "id": "3d1143e4",
   "metadata": {},
   "outputs": [],
   "source": [
    "if not os.path.exists(\"logs/incorrect\"):\n",
    "    os.mkdir(\"logs/incorrect\")\n",
    "    \n",
    "for i in range(0, len(incorrect), len(incorrect) // nincorrect):\n",
    "    print(i)\n",
    "    with open(f\"logs/incorrect/{i}.txt\", \"w\") as file:\n",
    "        log_result(incorrect[i], file=file)"
   ]
  },
  {
   "cell_type": "markdown",
   "id": "12dfafd3",
   "metadata": {},
   "source": [
    "## Ideas for increasing score (for attempt 2)\n",
    "- Find a way to fit redirects into the index\n",
    "- Boost terms in the query with low tf-idf values\n",
    "- Ask ChatGPT which terms are more important in a query and boost those\n",
    "- Ask ChatGPT to rephrase the query to try to solve some of the error classes"
   ]
  }
 ],
 "metadata": {
  "kernelspec": {
   "display_name": "Python 3 (ipykernel)",
   "language": "python",
   "name": "python3"
  },
  "language_info": {
   "codemirror_mode": {
    "name": "ipython",
    "version": 3
   },
   "file_extension": ".py",
   "mimetype": "text/x-python",
   "name": "python",
   "nbconvert_exporter": "python",
   "pygments_lexer": "ipython3",
   "version": "3.11.6"
  }
 },
 "nbformat": 4,
 "nbformat_minor": 5
}
