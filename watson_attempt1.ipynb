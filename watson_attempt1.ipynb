{
 "cells": [
  {
   "cell_type": "code",
   "execution_count": 1,
   "id": "a6210237",
   "metadata": {
    "ExecuteTime": {
     "end_time": "2024-03-11T16:12:27.392708Z",
     "start_time": "2024-03-11T16:12:27.116985Z"
    }
   },
   "outputs": [],
   "source": [
    "import os"
   ]
  },
  {
   "cell_type": "code",
   "execution_count": 2,
   "id": "4c79b3fe",
   "metadata": {},
   "outputs": [
    {
     "data": {
      "text/plain": [
       "[\"NEWSPAPERS\\nThe dominant paper in our nation's capital, it's among the top 10 U.S. papers in circulation\\nThe Washington Post\",\n",
       " \"OLD YEAR'S RESOLUTIONS\\nThe practice of pre-authorizing presidential use of force dates to a 1955 resolution re: this island near mainland China\\nTaiwan\",\n",
       " 'NEWSPAPERS\\nDaniel Hertzberg & James B. Stewart of this paper shared a 1988 Pulitzer for their stories about insider trading\\nThe Wall Street Journal',\n",
       " 'BROADWAY LYRICS\\nSong that says, \"you make me smile with my heart; your looks are laughable, unphotographable\"\\nMy Funny Valentine',\n",
       " 'POTPOURRI\\nIn 2011 bell ringers for this charity started accepting digital donations to its red kettle\\nThe Salvation Army|Salvation Army',\n",
       " \"STATE OF THE ART MUSEUM (Alex: We'll give you the museum. You give us the state.)\\nThe Naples Museum of Art\\nFlorida\",\n",
       " '\"TIN\" MEN\\nThis Italian painter depicted the \"Adoration of the Golden Calf\"\\nTintoretto',\n",
       " 'UCLA CELEBRITY ALUMNI\\nThis woman who won consecutive heptathlons at the Olympics went to UCLA on a basketball scholarship\\nJackie Joyner-Kersee',\n",
       " \"SERVICE ORGANIZATIONS\\nOriginally this club's emblem was a wagon wheel; now it's a gearwheel with 24 cogs & 6 spokes\\nRotary International\",\n",
       " 'AFRICAN CITIES\\nSeveral bridges, including El Tahrir, cross the Nile in this capital\\nCairo',\n",
       " 'HISTORICAL QUOTES\\nAfter the fall of France in 1940, this general told his country, \"France has lost a battle. But France has not lost the war\"\\nCharles de Gaulle|de Gaulle',\n",
       " \"STATE OF THE ART MUSEUM (Alex: We'll give you the museum. You give us the state.)\\nThe Taft Museum of Art\\nOhio\",\n",
       " 'CEMETERIES\\nThe mast from the USS Maine is part of the memorial to the ship & crew at this national cemetery\\nArlington National Cemetery|Arlington Cemetery',\n",
       " 'GOLDEN GLOBE WINNERS\\nIn 2009: Joker on film\\nHeath Ledger',\n",
       " 'HISTORICAL HODGEPODGE\\nIt was the peninsula fought over in the peninsular war of 1808 to 1814\\nIberia|Iberian Peninsula',\n",
       " 'CONSERVATION\\nIn 1980 China founded a center for these cute creatures in its bamboo-rich Wolong Nature Preserve\\nPanda|Giant panda',\n",
       " '\\'80s NO.1 HITMAKERS\\n1988: \"Father Figure\"\\nGeorge Michael',\n",
       " 'AFRICAN-AMERICAN WOMEN\\nIn an essay defending this 2011 film, Myrlie Evers-Williams said, \"My mother was\" this film \"& so was her mother\"\\nThe Help',\n",
       " 'SERVICE ORGANIZATIONS\\nFather Michael McGivney founded this fraternal society for Catholic laymen in 1882\\nKnights of Columbus',\n",
       " 'CONSERVATION\\nEarly projects of the WWF, this organization, included work with the bald eagle & the red wolf\\nWorld Wide Fund|World Wide Fund for Nature',\n",
       " \"CONSERVATION\\nIndonesia's largest lizard, it's protected from poachers, though we wish it could breathe fire to do the job itself\\nKomodo dragon\",\n",
       " \"1920s NEWS FLASH!\\nNov. 28, 1929! This man & his chief pilot Bernt Balchen fly to South Pole! Yowza! You'll be an admirable admiral, sir!\\nRichard Byrd|Richard E. Byrd\",\n",
       " 'CEMETERIES\\nOn May 5, 1878 Alice Chambers was the last person buried in this Dodge City, Kansas cemetery\\nBoot Hill',\n",
       " 'CAMBODIAN HISTORY & CULTURE\\nThe Royal Palace grounds feature a statue of King Norodom, who in the late 1800s was compelled to first put his country under the control of this European power; of course, it was sculpted in that country\\nFrance',\n",
       " 'HISTORICAL HODGEPODGE\\nIn the 400s B.C. this Chinese philosopher went into exile for 12 years\\nConfucius',\n",
       " \"AFRICAN-AMERICAN WOMEN\\nBessie Coleman, the first black woman licensed as a pilot, landed a street named in her honor at this Chicago airport\\nO'Hare|O'Hare International Airport\",\n",
       " 'HISTORICAL HODGEPODGE\\nThe Ammonites held sway in this Mideast country in the 1200s B.C. & the capital is named for them\\nJordan',\n",
       " 'HE PLAYED A GUY NAMED JACK RYAN IN...\\n\"The Sum of All Fears\"; he also won a screenwriting Oscar for \"Good Will Hunting\"\\nBen Affleck',\n",
       " 'POTPOURRI\\nOne of the N.Y. Times\\' headlines on this landmark 1973 Supreme Court decision was \"Cardinals shocked\"\\nRoe v. Wade',\n",
       " 'I\\'M BURNIN\\' FOR YOU\\nFrance\\'s Philip IV--known as \"The Fair\"--had Jacques De Molay, the last Grand Master of this order, burned in 1314\\nKnights Templar',\n",
       " \"STATE OF THE ART MUSEUM (Alex: We'll give you the museum. You give us the state.)\\nThe Georgia O'Keeffe Museum\\nNew Mexico\",\n",
       " 'AFRICAN CITIES\\nThe name of this largest Moroccan city combines 2 Spanish words\\nCasablanca',\n",
       " 'NAME THE PARENT COMPANY\\nJell-O\\nKraft Foods',\n",
       " 'GOLDEN GLOBE WINNERS\\n2011: Chicago mayor Tom Kane\\nKelsey Grammer',\n",
       " 'THE RESIDENTS\\nTitle residence of Otter, Flounder, Pinto & Bluto in a 1978 comedy\\nAnimal House',\n",
       " 'UCLA CELEBRITY ALUMNI\\nNeurobiologist Amy Farrah Fowler on \"The Big Bang Theory\", in real life she has a Ph.D. in neuroscience from UCLA\\nMayim Bialik',\n",
       " 'NOTES FROM THE CAMPAIGN TRAIL\\nIn \"The Deadlocked Election of 1800\", James R. Sharp outlines the fall of this dueling vice president\\nAaron Burr',\n",
       " '\"TIN\" MEN\\nHe served in the KGB before becoming president & then prime minister of Russia\\nVladimir Putin|Putin',\n",
       " \"AFRICAN-AMERICAN WOMEN\\nWhen asked to describe herself, she says first & foremost, she is Malia & Sasha's mom\\nMichelle Obama\",\n",
       " 'POETS & POETRY\\nShe wrote, \"My candle burns at both ends... but, ah, my foes, and oh, my friends--it gives a lovely light\"\\nEdna St. Vincent Millay',\n",
       " \"CAPITAL CITY CHURCHES (Alex: We'll give you the church. You tell us the capital city in which it is located.)\\nIn this Finnish city, the Lutheran Cathedral, also known as Tuomiokirkko\\nHelsinki\",\n",
       " 'NAME THE PARENT COMPANY\\nMilton Bradley games\\nHasbro',\n",
       " \"OLD YEAR'S RESOLUTIONS\\nThe Kentucky & Virginia resolutions were passed to protest these controversial 1798 acts of Congress\\nThe Alien and Sedition Acts\",\n",
       " '\\'80s NO.1 HITMAKERS\\n1983: \"Beat It\"\\nMichael Jackson',\n",
       " 'GOLDEN GLOBE WINNERS\\nIn 2009: Sookie Stackhouse\\nAnna Paquin',\n",
       " 'HISTORICAL HODGEPODGE\\nThis member of the Nixon & Ford cabinets was born in Furth, Germany in 1923\\nHenry Kissinger',\n",
       " \"CAPITAL CITY CHURCHES (Alex: We'll give you the church. You tell us the capital city in which it is located.)\\nThe High Kirk of St. Giles, where John Knox was minister\\nEdinburgh\",\n",
       " 'UCLA CELEBRITY ALUMNI\\nFor the brief time he attended, he was a rebel with a cause, even landing a lead role in a 1950 stage production\\nJames Dean',\n",
       " 'NAME THE PARENT COMPANY\\nFisher-Price toys\\nMattel',\n",
       " 'HISTORICAL QUOTES\\nIn a 1959 American kitchen exhibit in Moscow, he told Khrushchev, \"In America, we like to make life easier for women\"\\nRichard Nixon|Nixon',\n",
       " 'POETS & POETRY\\nOne of his \"Tales of a Wayside Inn\" begins, \"Listen, my children, and you shall hear of the midnight ride of Paul Revere\"\\nHenry Wadsworth Longfellow',\n",
       " 'NOTES FROM THE CAMPAIGN TRAIL\\nThis bestseller about problems on the McCain-Palin ticket became an HBO movie with Julianne Moore\\nGame Change',\n",
       " 'THAT 20-AUGHTS SHOW\\nA 2-part episode of \"JAG\" introduced this Mark Harmon drama\\nNCIS',\n",
       " \"AFRICAN CITIES\\nThis port is the southernmost of South Africa's 3 capitals\\nCape Town\",\n",
       " 'THE QUOTABLE KEATS\\nKeats was quoting this Edmund Spenser poem when he told Shelley to \"\\'load every rift\\' of your subject with ore\"\\nThe Faerie Queene',\n",
       " 'THE QUOTABLE KEATS\\nIn an 1819 letter Keats wrote that this lord & poet \"cuts a figure, but he is not figurative\"\\nLord Byron',\n",
       " \"GREEK FOOD & DRINK\\nThis clear Greek liqueur is quite potent, so it's usually mixed with water, which turns it white & cloudy\\nOuzo\",\n",
       " \"OLD YEAR'S RESOLUTIONS\\nFeb. 1, National Freedom Day, is the date in 1865 when a resolution sent the states an amendment ending this\\nSlavery|Slavery in the United States\",\n",
       " \"RANKS & TITLES\\nThis person is the queen's representative in Canada; currently the office is held by David Johnston\\nGovernor General of Canada\",\n",
       " '\"TIN\" MEN\\nHe earned the \"fifth Beatle\" nickname by producing all of the Beatles\\' albums\\nGeorge Martin',\n",
       " \"NEWSPAPERS\\nEarly in their careers, Mark Twain & Bret Harte wrote pieces for this California city's Chronicle\\nSan Francisco\",\n",
       " 'POTPOURRI\\nLarge specimens of this marsupial can leap over barriers 6 feet high\\nKangaroo',\n",
       " \"GREEK FOOD & DRINK\\nBecause it's cured & stored in brine, this crumbly white cheese made from sheep's milk is often referred to as pickled cheese\\nFeta\",\n",
       " '1920s NEWS FLASH!\\n1927! Gene Tunney takes a long count in the squared circle but rises to defeat this \"Manassa Mauler\"! Howzabout that!\\nJack Dempsey',\n",
       " 'RANKS & TITLES\\nItalian for \"leader\", it was especially applied to Benito Mussolini\\nDuce',\n",
       " \"STATE OF THE ART MUSEUM (Alex: We'll give you the museum. You give us the state.)\\nThe Kalamazoo Institute of Arts\\nMichigan\",\n",
       " \"STATE OF THE ART MUSEUM (Alex: We'll give you the museum. You give us the state.)\\nThe Sun Valley Center for the Arts\\nIdaho\",\n",
       " '\"TIN\" MEN\\nYou can\\'t mention this shortstop without mentioning his double-play associates Evers & Chance\\nJoe Tinker',\n",
       " 'NEWSPAPERS\\nIn 1840 Horace Greeley began publishing \"The Log Cabin\", a weekly campaign paper in support of this Whig candidate\\nWilliam Henry Harrison',\n",
       " \"I'M BURNIN' FOR YOU\\nPierre Cauchon, Bishop of Beauvais, presided over the trial of this woman who went up in smoke May 30, 1431\\nJoan of Arc|Jeanne d'Arc\",\n",
       " 'COMPLETE DOM-INATION(Alex: Not \"domination.\")\\nThis Wisconsin city claims to have built the USA\\'s only granite dome\\nMadison',\n",
       " 'NEWSPAPERS\\nThis Georgia paper is known as the AJC for short\\nThe Atlanta Journal-Constitution',\n",
       " 'AFRICAN CITIES\\nWooden 2-story verandas in this Liberian capital are an architectural link to the U.S. south\\nMonrovia',\n",
       " 'COMPLETE DOM-INATION(Alex: Not \"domination.\")\\nThis New Orleans venue reopened Sept. 25, 2006\\nMercedes-Benz Superdome|The Superdome',\n",
       " 'HE PLAYED A GUY NAMED JACK RYAN IN...\\n\"The Hunt for Red October\"; he went more comedic as Jack Donaghy on \"30 Rock\"\\nAlec Baldwin',\n",
       " 'AFRICAN-AMERICAN WOMEN\\nRita Dove titled a collection of poems \"On the Bus with\" this woman\\nRosa Parks',\n",
       " 'HE PLAYED A GUY NAMED JACK RYAN IN...\\n\"Patriot Games\"; he\\'s had other iconic roles, in space & underground\\nHarrison Ford',\n",
       " 'COMPLETE DOM-INATION(Alex: Not \"domination.\")\\nThis sacred structure dates from the late 600\\'s A.D.\\nDome of the Rock',\n",
       " '\\'80s NO.1 HITMAKERS\\n1988: \"Man In The Mirror\"\\nMichael Jackson',\n",
       " \"CAPITAL CITY CHURCHES (Alex: We'll give you the church. You tell us the capital city in which it is located.)\\nMatthias Church, or Matyas Templom, where Franz Joseph was crowned in 1867\\nBudapest\",\n",
       " 'UCLA CELEBRITY ALUMNI\\nAttending UCLA in the \\'60s, he was no \"Meathead\", he just played one later on television\\nRob Reiner',\n",
       " \"THE RESIDENTS\\nKinch, Carter & LeBeau were all residents of Stalag 13 on this TV show\\nHogan's Heroes\",\n",
       " \"1920s NEWS FLASH!\\nNews flash! This less-than-yappy pappy is sixth veep to be nation's top dog after chief takes deep sleep!\\nCalvin Coolidge\",\n",
       " 'GOLDEN GLOBE WINNERS\\nIn 2001: The president of the United States on television\\nMartin Sheen',\n",
       " '\\'80s NO.1 HITMAKERS\\n1989: \"Miss You Much\"\\nJanet Jackson',\n",
       " \"1920s NEWS FLASH!\\n1922: It's the end of an empire! This empire, in fact! After 600 years, it's goodbye, this, hello, Turkish Republic!\\nOttoman Empire\",\n",
       " 'NAME THE PARENT COMPANY\\nCrest toothpaste\\nProcter & Gamble',\n",
       " 'HISTORICAL QUOTES\\nIn 1888 this Chancellor told the Reichstag, \"we Germans fear God, but nothing else in the world\"\\nOtto von Bismarck|Von Bismarck',\n",
       " 'POETS & POETRY\\nIn 1787 he signed his first published poem \"Axiologus\"; axio- is from the Greek for \"worth\"\\nWilliam Wordsworth',\n",
       " 'CAMBODIAN HISTORY & CULTURE\\nNot to be confused with karma, krama is a popular accessory sold in cambodia; the word means \"scarf\" in this national language of Cambodia\\nKhmer language',\n",
       " \"CAMBODIAN HISTORY & CULTURE\\nPhnom Penh's notorious gridlock is circumvented by the nimble tuk-tuk, a motorized taxi that's also known as an auto this, a similar Asian conveyance.\\nRickshaw\",\n",
       " '\\'80s NO.1 HITMAKERS\\n1980: \"Rock With You\"\\nMichael Jackson',\n",
       " 'NOTES FROM THE CAMPAIGN TRAIL\\nThe Pulitzer-winning \"The Making of the President 1960\" covered this man\\'s successful presidential campaign\\nJFK|John F. Kennedy',\n",
       " 'SERVICE ORGANIZATIONS\\nIn 1843 Isaac Dittenhoefer became the first pres. of this Jewish club whose name means \"children of the covenant\"\\nB\\'nai B\\'rith',\n",
       " \"THE RESIDENTS\\nDon Knotts took over from Norman Fell as the resident landlord on this sitcom\\nThree's Company\",\n",
       " 'OLD YEAR\\'S RESOLUTIONS\\nU.N. Res. 242 supports \"secure and recognized boundaries\" for Israel & neighbors following this June 1967 war\\nThe Six Day War',\n",
       " 'UCLA CELEBRITY ALUMNI\\nThis blonde beauty who reprised her role as Amanda on the new \"Melrose Place\" was a psychology major\\nHeather Locklear',\n",
       " 'GREEK FOOD & DRINK\\nThe name of this dish of marinated lamb, skewered & grilled, comes from the Greek for \"skewer\" & also starts with \"s\"\\nSouvlaki',\n",
       " 'NAME THE PARENT COMPANY\\nPost-it notes\\n3M',\n",
       " 'GOLDEN GLOBE WINNERS\\nIn 2010: As Sherlock Holmes on film\\nRobert Downey, Jr.',\n",
       " '']"
      ]
     },
     "execution_count": 2,
     "metadata": {},
     "output_type": "execute_result"
    }
   ],
   "source": [
    "with open(\"./data/questions.txt\", \"r\") as file:\n",
    "    questions = file.read().split(\"\\n\\n\")\n",
    "data = {\"category\": [], \"question\": []}\n",
    "for question in questions:\n",
    "    question = question.split(\"\\n\")\n",
    "    data[\"category\"].append(question[0])\n",
    "    data[\"question\"].append(\" \".join(question[1:]))\n",
    "questions_df = pd.DataFrame(data)\n",
    "questions_df.head()"
   ]
  }
 ],
 "metadata": {
  "kernelspec": {
   "display_name": "Python 3 (ipykernel)",
   "language": "python",
   "name": "python3"
  },
  "language_info": {
   "codemirror_mode": {
    "name": "ipython",
    "version": 3
   },
   "file_extension": ".py",
   "mimetype": "text/x-python",
   "name": "python",
   "nbconvert_exporter": "python",
   "pygments_lexer": "ipython3",
   "version": "3.10.11"
  }
 },
 "nbformat": 4,
 "nbformat_minor": 5
}
