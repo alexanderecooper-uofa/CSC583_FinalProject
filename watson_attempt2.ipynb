{
 "cells": [
  {
   "cell_type": "markdown",
   "id": "9cc1f222",
   "metadata": {},
   "source": [
    "# Watson Attempt 2"
   ]
  },
  {
   "cell_type": "markdown",
   "id": "d0faa1e4",
   "metadata": {},
   "source": [
    "### Imports"
   ]
  },
  {
   "cell_type": "code",
   "execution_count": 1,
   "id": "15a2236b",
   "metadata": {},
   "outputs": [],
   "source": [
    "import os\n",
    "import shutil\n",
    "import json\n",
    "\n",
    "from whoosh.fields import Schema, TEXT, ID\n",
    "from whoosh.index import create_in, open_dir, exists_in\n",
    "from whoosh.qparser import QueryParser, OrGroup\n",
    "from whoosh.scoring import BM25F\n",
    "from whoosh.analysis import RegexTokenizer, LowercaseFilter, NgramFilter"
   ]
  },
  {
   "cell_type": "code",
   "execution_count": 2,
   "id": "d3491de6",
   "metadata": {},
   "outputs": [],
   "source": [
    "from env import env\n",
    "from shared import wiki_df, questions_df, LemmatizeFilter, filter_query, transform_category # importing from shared takes a few seconds"
   ]
  },
  {
   "cell_type": "markdown",
   "id": "c7460269-459a-4e4b-aeac-39f7b7f35749",
   "metadata": {},
   "source": [
    "### Get the OpenAI API key and define the ChatGPT query"
   ]
  },
  {
   "cell_type": "code",
   "execution_count": 3,
   "id": "04b23a31",
   "metadata": {},
   "outputs": [
    {
     "name": "stdin",
     "output_type": "stream",
     "text": [
      "Enter your OpenAI API Key:  sk-proj-SNT756928pYEEjotrbLZT3BlbkFJmLkgwk46Sn4dUQ7Q6Eeq\n"
     ]
    }
   ],
   "source": [
    "api_key = os.getenv(\"OPENAI_API_KEY\")\n",
    "if not api_key:\n",
    "    api_key = input(\"Enter your OpenAI API Key: \")"
   ]
  },
  {
   "cell_type": "code",
   "execution_count": null,
   "id": "2f54e91d-88e0-42f1-b362-b76d37161476",
   "metadata": {},
   "outputs": [],
   "source": [
    "# query ChatGPT using the OpenAI API\n",
    "def query_ChatGPT(query):\n",
    "    import requests\n",
    "\n",
    "    model = \"gpt-3.5-turbo-0301\"\n",
    "\n",
    "    headers = {\n",
    "        \"Content-Type\": \"application/json\",\n",
    "        \"Authorization\": \"Bearer \" + api_key,\n",
    "    }\n",
    "\n",
    "    json_data = {\n",
    "            \"model\": model,\n",
    "            \"temperature\": 0,\n",
    "            \"messages\": [\n",
    "                {\n",
    "                    \"role\": \"user\",\n",
    "                    \"content\": query\n",
    "                }\n",
    "            ]\n",
    "        }\n",
    "\n",
    "    response = requests.post(\"https://api.openai.com/v1/chat/completions\", headers=headers, json=json_data).json()\n",
    "    assert \"choices\" in response, response\n",
    "    assert len(response[\"choices\"]) > 0, response\n",
    "    assert \"message\" in response[\"choices\"][0], response\n",
    "    assert \"content\" in response[\"choices\"][0][\"message\"], response\n",
    "    \n",
    "    return response[\"choices\"][0][\"message\"][\"content\"]"
   ]
  },
  {
   "cell_type": "markdown",
   "id": "4abda390-2b5e-4a58-84e5-05945ce0eb13",
   "metadata": {},
   "source": [
    "### Define the query transform\n",
    "NOTE: There were more transformations in here at one point, but they did not increase score and were removed"
   ]
  },
  {
   "cell_type": "code",
   "execution_count": 5,
   "id": "327c32e5",
   "metadata": {},
   "outputs": [],
   "source": [
    "# transform the query, just filters it for now\n",
    "def transform_query(query):\n",
    "    query = filter_query(query)\n",
    "    return query"
   ]
  },
  {
   "cell_type": "markdown",
   "id": "19e3f579-2a8e-408c-bd83-1d8124df02a7",
   "metadata": {},
   "source": [
    "### Define the reranking function\n",
    "Asks ChatGPT to rerank the top k results. k is a hyperparameter that was tuned to nbe 15 for the best results."
   ]
  },
  {
   "cell_type": "code",
   "execution_count": 7,
   "id": "a11c55f9",
   "metadata": {},
   "outputs": [],
   "source": [
    "# rerank top k results with ChatGPT\n",
    "with open(\"ChatGPT_template/t4.txt\", \"r\") as file:\n",
    "    template4 = file.read()\n",
    "def rerank_results(question, results):\n",
    "    k = 15\n",
    "    data = { \"question\": question, \"guesses\": [] }\n",
    "    for i in range(k):\n",
    "        data[\"guesses\"].append(results[i][0])\n",
    "    gptq = template4 + json.dumps(data)\n",
    "    try:\n",
    "        reranked_guesses = json.loads(query_ChatGPT(gptq))[\"reranked_guesses\"]\n",
    "        reranked_results = []\n",
    "        for i in range(k):\n",
    "            reranked_results.append((reranked_guesses[i], i + 1))\n",
    "        reranked_results += results[k+1:]\n",
    "        return reranked_results\n",
    "    except:\n",
    "        return results"
   ]
  },
  {
   "cell_type": "markdown",
   "id": "548f9a34",
   "metadata": {},
   "source": [
    "### Define the Watson class"
   ]
  },
  {
   "cell_type": "code",
   "execution_count": 8,
   "id": "b85b91b7",
   "metadata": {},
   "outputs": [],
   "source": [
    "class Watson:\n",
    "    def __init__(self):\n",
    "        self.questions_df = get_questions_df()\n",
    "        self.Q = len(self.questions_df.index)\n",
    "        self._analyzer = self._build_analyzer()\n",
    "        self._index = self._build_index()\n",
    "        self._parser = self._build_parser()\n",
    "\n",
    "    # builds the analyzer\n",
    "    def _build_analyzer(self):\n",
    "        return RegexTokenizer() | LowercaseFilter() | LemmatizeFilter()\n",
    "\n",
    "    # builds the index\n",
    "    def _build_index(self):\n",
    "        if exists_in(env.index_path):\n",
    "            ix = open_dir(env.index_path)\n",
    "        else:\n",
    "            if os.path.exists(env.index_path):\n",
    "                shutil.rmtree(env.index_path)\n",
    "            os.mkdir(env.index_path)\n",
    "            schema = Schema(title=ID(stored=True),  \n",
    "                    titles=TEXT(analyzer=self._analyzer), \n",
    "                    categories=TEXT(analyzer=self._analyzer), \n",
    "                    content=TEXT(analyzer=self._analyzer))\n",
    "            ix = create_in(env.index_path, schema)\n",
    "            with ix.writer() as writer:\n",
    "                for _, row in get_wiki_df().iterrows():\n",
    "                    writer.add_document(title=row.title, content=row.text)\n",
    "        return ix\n",
    "\n",
    "    # builds the parser\n",
    "    def _build_parser(self):\n",
    "        og = OrGroup.factory(0.9)\n",
    "        return QueryParser(\"content\", schema=self._index.schema, group=og)\n",
    "\n",
    "    # searches the index for the category and question provided\n",
    "    \n",
    "    def search(self, category, question, scorer=BM25F):\n",
    "        try:\n",
    "            category = transform_category(category)\n",
    "            question = transform_query(question)\n",
    "            query = self._parser.parse(category + \" \" + question)\n",
    "        except TypeError as e:\n",
    "            print(query_pipeline(question))\n",
    "            raise e\n",
    "        with self._index.searcher(weighting=scorer()) as searcher:\n",
    "            results = searcher.search(query, limit=None)\n",
    "            if results.scored_length() == 0:\n",
    "                return None\n",
    "            return rerank_results(question, [(r[\"title\"], r.rank+1) for r in results])\n",
    "            \n",
    "    # tests the system using MRR or precison at 1\n",
    "    def test(self, scorer=BM25F, eval=\"mrr\"):\n",
    "        if eval == \"mrr\":\n",
    "            mrr = 0.0\n",
    "            for _, row in self.questions_df.iterrows():\n",
    "                results = self.search(row.category, row.question, scorer)\n",
    "                rank = Watson.get_rank(results, row.answer)\n",
    "                if rank > 0:\n",
    "                    mrr += 1 / rank\n",
    "            mrr /= self.Q\n",
    "            return mrr\n",
    "        elif eval == \"p@1\":\n",
    "            correct = 0\n",
    "            for _, row in self.questions_df.iterrows():\n",
    "                results = self.search(row.category, row.question, scorer)\n",
    "                if Watson.is_correct(results, row.answer):\n",
    "                    correct += 1\n",
    "            return correct / self.Q\n",
    "        elif eval == \"both\":\n",
    "            mrr = 0.0\n",
    "            correct = 0\n",
    "            for _, row in self.questions_df.iterrows():\n",
    "                results = self.search(row.category, row.question, scorer)\n",
    "                rank = Watson.get_rank(results, row.answer)\n",
    "                if rank > 0:\n",
    "                    mrr += 1 / rank\n",
    "                if Watson.is_correct(results, row.answer):\n",
    "                    correct += 1\n",
    "            return mrr / self.Q, correct / self.Q\n",
    "        else:\n",
    "            raise Exception(f\"unrecognized evaluation type: {eval}\")\n",
    "        \n",
    "    # gets the rank of an answer\n",
    "    @staticmethod\n",
    "    def get_rank(results, answer):\n",
    "        for answer_variant in answer.split(\"|\"):\n",
    "            for (doc_title, rank) in results:\n",
    "                if doc_title.lower() == answer_variant.lower():\n",
    "                    return rank\n",
    "        return 0\n",
    "\n",
    "    # determines if an answer is correct\n",
    "    @staticmethod\n",
    "    def is_correct(results, answer):\n",
    "        guess, _ = results[0]\n",
    "        for answer_variant in answer.split(\"|\"):\n",
    "            if answer_variant.lower() == guess.lower():\n",
    "                return True\n",
    "        return False\n",
    "\n",
    "    # gets the guess from an element in the results list\n",
    "    @staticmethod\n",
    "    def get_guess(results):\n",
    "        guess, _ = results[0]\n",
    "        return guess\n",
    "    "
   ]
  },
  {
   "cell_type": "markdown",
   "id": "43eba4d2",
   "metadata": {},
   "source": [
    "### Instantiate Watson"
   ]
  },
  {
   "cell_type": "code",
   "execution_count": 9,
   "id": "95661e01",
   "metadata": {},
   "outputs": [],
   "source": [
    "watson = Watson()   "
   ]
  },
  {
   "cell_type": "markdown",
   "id": "faed97a7",
   "metadata": {},
   "source": [
    "### Test Watson"
   ]
  },
  {
   "cell_type": "code",
   "execution_count": 10,
   "id": "8cce1bd4",
   "metadata": {},
   "outputs": [
    {
     "data": {
      "text/plain": [
       "(0.5816188877674071, 0.54)"
      ]
     },
     "execution_count": 10,
     "metadata": {},
     "output_type": "execute_result"
    }
   ],
   "source": [
    "mrr_score, pa1_score = watson.test(eval=\"both\")\n",
    "mrr_score, pa1_score"
   ]
  }
 ],
 "metadata": {
  "kernelspec": {
   "display_name": "Python 3 (ipykernel)",
   "language": "python",
   "name": "python3"
  },
  "language_info": {
   "codemirror_mode": {
    "name": "ipython",
    "version": 3
   },
   "file_extension": ".py",
   "mimetype": "text/x-python",
   "name": "python",
   "nbconvert_exporter": "python",
   "pygments_lexer": "ipython3",
   "version": "3.11.6"
  }
 },
 "nbformat": 4,
 "nbformat_minor": 5
}
