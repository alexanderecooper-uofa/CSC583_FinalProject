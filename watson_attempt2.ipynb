{
 "cells": [
  {
   "cell_type": "markdown",
   "id": "9cc1f222",
   "metadata": {},
   "source": [
    "# Watson Attempt 2"
   ]
  },
  {
   "cell_type": "markdown",
   "id": "d0faa1e4",
   "metadata": {},
   "source": [
    "### Imports"
   ]
  },
  {
   "cell_type": "code",
   "execution_count": 2,
   "id": "15a2236b",
   "metadata": {},
   "outputs": [],
   "source": [
    "import os\n",
    "import shutil\n",
    "import json\n",
    "\n",
    "from whoosh.fields import Schema, TEXT, ID\n",
    "from whoosh.index import create_in, open_dir, exists_in\n",
    "from whoosh.qparser import QueryParser, OrGroup\n",
    "from whoosh.scoring import BM25F\n",
    "from whoosh.analysis import RegexTokenizer, LowercaseFilter, NgramFilter"
   ]
  },
  {
   "cell_type": "code",
   "execution_count": 2,
   "id": "d3491de6",
   "metadata": {},
   "outputs": [],
   "source": [
    "from env import env\n",
    "from shared import wiki_df, questions_df, LemmatizeFilter, filter_query # importing from shared takes a few seconds"
   ]
  },
  {
   "cell_type": "code",
   "execution_count": 3,
   "id": "04b23a31",
   "metadata": {},
   "outputs": [],
   "source": [
    "api_key = os.getenv(\"OPENAI_API_KEY\")\n",
    "if not api_key:\n",
    "    api_key = input(\"Enter your OpenAI API Key: \")"
   ]
  },
  {
   "cell_type": "code",
   "execution_count": 4,
   "id": "47cfaf01",
   "metadata": {},
   "outputs": [],
   "source": [
    "def query_ChatGPT(query):\n",
    "    import requests\n",
    "\n",
    "    model = \"gpt-3.5-turbo-0301\"\n",
    "\n",
    "    headers = {\n",
    "        \"Content-Type\": \"application/json\",\n",
    "        \"Authorization\": \"Bearer \" + api_key,\n",
    "    }\n",
    "\n",
    "    json_data = {\n",
    "            \"model\": model,\n",
    "            \"temperature\": 0,\n",
    "            \"messages\": [\n",
    "                {\n",
    "                    \"role\": \"user\",\n",
    "                    \"content\": query\n",
    "                }\n",
    "            ]\n",
    "        }\n",
    "\n",
    "    response = requests.post(\"https://api.openai.com/v1/chat/completions\", headers=headers, json=json_data).json()\n",
    "    assert \"choices\" in response, response\n",
    "    assert len(response[\"choices\"]) > 0, response\n",
    "    assert \"message\" in response[\"choices\"][0], response\n",
    "    assert \"content\" in response[\"choices\"][0][\"message\"], response\n",
    "    \n",
    "    return response[\"choices\"][0][\"message\"][\"content\"]"
   ]
  },
  {
   "cell_type": "code",
   "execution_count": 5,
   "id": "61bb18bd",
   "metadata": {},
   "outputs": [],
   "source": [
    "with open(\"ChatGPT_template/t3.txt\", \"r\") as file:\n",
    "    template1 = file.read()\n",
    "def pass_query_through_ChatGPT(query):\n",
    "    gptq = template1 + query\n",
    "    try:\n",
    "        return query_ChatGPT(gptq)\n",
    "    except:\n",
    "        return query"
   ]
  },
  {
   "cell_type": "code",
   "execution_count": 6,
   "id": "bf905c41",
   "metadata": {},
   "outputs": [],
   "source": [
    "with open(\"ChatGPT_template/t2.txt\", \"r\") as file:\n",
    "    template2 = file.read()\n",
    "def boost_important_terms(query):\n",
    "    if len(query.split()) <= 3:\n",
    "        return query\n",
    "    \n",
    "    gptq = template2 + query\n",
    "\n",
    "    try:\n",
    "        terms = json.loads(query_ChatGPT(gptq))\n",
    "    except:\n",
    "        return query\n",
    "    \n",
    "    if len(terms) < 3:\n",
    "        return query\n",
    "    \n",
    "    try:\n",
    "        term1 = terms[\"term1\"]\n",
    "        term2 = terms[\"term2\"]\n",
    "        term3 = terms[\"term3\"]\n",
    "    except:\n",
    "        return query\n",
    "    \n",
    "    # boost the importance of the 3 least frequent terms TODO tune the boost level\n",
    "    query = query.replace(term1, term1 + \"^1.7\")\n",
    "    query = query.replace(term2, term2 + \"^1.5\")\n",
    "    query = query.replace(term3, term3 + \"^1.3\")\n",
    "    return query"
   ]
  },
  {
   "cell_type": "code",
   "execution_count": 7,
   "id": "327c32e5",
   "metadata": {},
   "outputs": [],
   "source": [
    "def query_pipeline(query):\n",
    "    # query = pass_query_through_ChatGPT(query)\n",
    "    query = filter_query(query)\n",
    "    # query = boost_important_terms(query)\n",
    "    return query"
   ]
  },
  {
   "cell_type": "code",
   "execution_count": 8,
   "id": "c83fcd67",
   "metadata": {},
   "outputs": [],
   "source": [
    "def category_pipeine(category):\n",
    "    new_cat = \"\"\n",
    "    for c in category.split():\n",
    "        new_cat += c + \"^0.5 \"\n",
    "    return new_cat.strip()"
   ]
  },
  {
   "cell_type": "code",
   "execution_count": 13,
   "id": "a11c55f9",
   "metadata": {},
   "outputs": [],
   "source": [
    "with open(\"ChatGPT_template/t4.txt\", \"r\") as file:\n",
    "    template4 = file.read()\n",
    "def rerank_results(question, results):\n",
    "    k = 10\n",
    "    data = { \"question\": question, \"guesses\": [] }\n",
    "    for i in range(k):\n",
    "        data[\"guesses\"].append(results[i][0])\n",
    "    gptq = template4 + json.dumps(data)\n",
    "    print(gptq)\n",
    "    try:\n",
    "        reranked_guesses = json.loads(query_ChatGPT(gptq))[\"reranked_guesses\"]\n",
    "        reranked_results = []\n",
    "        for i in range(k):\n",
    "            reranked_results.append((reranked_guesses[i], i + 1))\n",
    "        reranked_results += results[k+1:]\n",
    "        print('here')\n",
    "        return reranked_results\n",
    "    except:\n",
    "        print('failed')\n",
    "        return results"
   ]
  },
  {
   "cell_type": "markdown",
   "id": "548f9a34",
   "metadata": {},
   "source": [
    "### Define the Watson class"
   ]
  },
  {
   "cell_type": "code",
   "execution_count": 10,
   "id": "b85b91b7",
   "metadata": {},
   "outputs": [],
   "source": [
    "class Watson:\n",
    "    def __init__(self):\n",
    "        self.Q = len(questions_df.index)\n",
    "        self._analyzer = self._build_analyzer()\n",
    "        self._index = self._build_index()\n",
    "        self._parser = self._build_parser()\n",
    "\n",
    "    def _build_analyzer(self):\n",
    "        return RegexTokenizer() | LowercaseFilter() | LemmatizeFilter()\n",
    "    \n",
    "    def _build_index(self):\n",
    "        if exists_in(env.index_path):\n",
    "            ix = open_dir(env.index_path)\n",
    "        else:\n",
    "            if os.path.exists(env.index_path):\n",
    "                shutil.rmtree(env.index_path)\n",
    "            os.mkdir(env.index_path)\n",
    "            schema = Schema(title=ID(stored=True),  \n",
    "                    titles=TEXT(analyzer=self._analyzer), \n",
    "                    categories=TEXT(analyzer=self._analyzer), \n",
    "                    content=TEXT(analyzer=self._analyzer))\n",
    "            ix = create_in(env.index_path, schema)\n",
    "            with ix.writer() as writer:\n",
    "                for _, row in wiki_df.iterrows():\n",
    "                    writer.add_document(title=row.title, content=row.text)\n",
    "        return ix\n",
    "    \n",
    "    def _build_parser(self):\n",
    "        og = OrGroup.factory(0.9)\n",
    "        return QueryParser(\"content\", schema=self._index.schema, group=og)\n",
    "    \n",
    "    def search(self, category, question, scorer=BM25F):\n",
    "        try:\n",
    "            category = category_pipeine(category)\n",
    "            question = query_pipeline(question)\n",
    "            query = self._parser.parse(category + \" \" + question)\n",
    "        except TypeError as e:\n",
    "            print(query_pipeline(question))\n",
    "            raise e\n",
    "        with self._index.searcher(weighting=scorer()) as searcher:\n",
    "            results = searcher.search(query, limit=None)\n",
    "            if results.scored_length() == 0:\n",
    "                return None\n",
    "            return [(r[\"title\"], r.rank+1) for r in results]\n",
    "\n",
    "    def test(self, scorer=BM25F, eval=\"mrr\"):\n",
    "        if eval == \"mrr\":\n",
    "            mrr = 0.0\n",
    "            for _, row in questions_df.iterrows():\n",
    "                results = self.search(row.category, row.question, scorer)\n",
    "                rank = Watson.get_rank(results, row.answer)\n",
    "                if rank > 0:\n",
    "                    mrr += 1 / rank\n",
    "            mrr /= self.Q\n",
    "            return mrr\n",
    "        elif eval == \"p@1\":\n",
    "            correct = 0\n",
    "            for _, row in questions_df.iterrows():\n",
    "                results = self.search(row.category, row.question, scorer)\n",
    "                if Watson.is_correct(results, row.answer):\n",
    "                    correct += 1\n",
    "            return correct / self.Q\n",
    "        elif eval == \"both\":\n",
    "            mrr = 0.0\n",
    "            correct = 0\n",
    "            for _, row in questions_df.iterrows():\n",
    "                results = self.search(row.category, row.question, scorer)\n",
    "                rank = Watson.get_rank(results, row.answer)\n",
    "                if rank > 0:\n",
    "                    mrr += 1 / rank\n",
    "                if Watson.is_correct(results, row.answer):\n",
    "                    correct += 1\n",
    "            return mrr / self.Q, correct / self.Q\n",
    "        else:\n",
    "            raise Exception(f\"unrecognized evaluation type: {eval}\")\n",
    "        \n",
    "    @staticmethod\n",
    "    def get_rank(results, answer):\n",
    "        for answer_variant in answer.split(\"|\"):\n",
    "            for (doc_title, rank) in results:\n",
    "                if doc_title.lower() == answer_variant.lower():\n",
    "                    return rank\n",
    "        return 0\n",
    "    \n",
    "    @staticmethod\n",
    "    def is_correct(results, answer):\n",
    "        guess, _ = results[0]\n",
    "        for answer_variant in answer.split(\"|\"):\n",
    "            if answer_variant.lower() == guess.lower():\n",
    "                return True\n",
    "        return False\n",
    "    \n",
    "    @staticmethod\n",
    "    def get_guess(results):\n",
    "        guess, _ = results[0]\n",
    "        return guess\n",
    "    "
   ]
  },
  {
   "cell_type": "markdown",
   "id": "43eba4d2",
   "metadata": {},
   "source": [
    "### Instantiate Watson"
   ]
  },
  {
   "cell_type": "code",
   "execution_count": 11,
   "id": "95661e01",
   "metadata": {},
   "outputs": [],
   "source": [
    "watson = Watson()"
   ]
  },
  {
   "cell_type": "code",
   "execution_count": 14,
   "id": "8b39287f",
   "metadata": {},
   "outputs": [
    {
     "ename": "",
     "evalue": "",
     "output_type": "error",
     "traceback": [
      "\u001b[1;31mThe Kernel crashed while executing code in the current cell or a previous cell. \n",
      "\u001b[1;31mPlease review the code in the cell(s) to identify a possible cause of the failure. \n",
      "\u001b[1;31mClick <a href='https://aka.ms/vscodeJupyterKernelCrash'>here</a> for more info. \n",
      "\u001b[1;31mView Jupyter <a href='command:jupyter.viewOutput'>log</a> for further details."
     ]
    }
   ],
   "source": [
    "c = \"NOTES FROM THE CAMPAIGN TRAIL\"\n",
    "q = \"This bestseller about problems on the McCain-Palin ticket became an HBO movie with Julianne Moore\"\n",
    "r = watson.search(c, q)\n",
    "print(r[:10])\n",
    "newr = rerank_results(query_pipeline(q), r)\n",
    "\n",
    "print()\n",
    "print(newr[:10])"
   ]
  },
  {
   "cell_type": "markdown",
   "id": "faed97a7",
   "metadata": {},
   "source": [
    "### Test Watson"
   ]
  },
  {
   "cell_type": "code",
   "execution_count": 24,
   "id": "8cce1bd4",
   "metadata": {},
   "outputs": [
    {
     "ename": "KeyboardInterrupt",
     "evalue": "",
     "output_type": "error",
     "traceback": [
      "\u001b[0;31m---------------------------------------------------------------------------\u001b[0m",
      "\u001b[0;31mKeyboardInterrupt\u001b[0m                         Traceback (most recent call last)",
      "Cell \u001b[0;32mIn[24], line 1\u001b[0m\n\u001b[0;32m----> 1\u001b[0m mrr_score, pa1_score \u001b[38;5;241m=\u001b[39m \u001b[43mwatson\u001b[49m\u001b[38;5;241;43m.\u001b[39;49m\u001b[43mtest\u001b[49m\u001b[43m(\u001b[49m\u001b[38;5;28;43meval\u001b[39;49m\u001b[38;5;241;43m=\u001b[39;49m\u001b[38;5;124;43m\"\u001b[39;49m\u001b[38;5;124;43mboth\u001b[39;49m\u001b[38;5;124;43m\"\u001b[39;49m\u001b[43m)\u001b[49m\n\u001b[1;32m      2\u001b[0m mrr_score, pa1_score\n",
      "Cell \u001b[0;32mIn[19], line 64\u001b[0m, in \u001b[0;36mWatson.test\u001b[0;34m(self, scorer, eval)\u001b[0m\n\u001b[1;32m     62\u001b[0m correct \u001b[38;5;241m=\u001b[39m \u001b[38;5;241m0\u001b[39m\n\u001b[1;32m     63\u001b[0m \u001b[38;5;28;01mfor\u001b[39;00m _, row \u001b[38;5;129;01min\u001b[39;00m questions_df\u001b[38;5;241m.\u001b[39miterrows():\n\u001b[0;32m---> 64\u001b[0m     results \u001b[38;5;241m=\u001b[39m \u001b[38;5;28;43mself\u001b[39;49m\u001b[38;5;241;43m.\u001b[39;49m\u001b[43msearch\u001b[49m\u001b[43m(\u001b[49m\u001b[43mrow\u001b[49m\u001b[38;5;241;43m.\u001b[39;49m\u001b[43mcategory\u001b[49m\u001b[43m,\u001b[49m\u001b[43m \u001b[49m\u001b[43mrow\u001b[49m\u001b[38;5;241;43m.\u001b[39;49m\u001b[43mquestion\u001b[49m\u001b[43m,\u001b[49m\u001b[43m \u001b[49m\u001b[43mscorer\u001b[49m\u001b[43m)\u001b[49m\n\u001b[1;32m     65\u001b[0m     rank \u001b[38;5;241m=\u001b[39m Watson\u001b[38;5;241m.\u001b[39mget_rank(results, row\u001b[38;5;241m.\u001b[39manswer)\n\u001b[1;32m     66\u001b[0m     \u001b[38;5;28;01mif\u001b[39;00m rank \u001b[38;5;241m>\u001b[39m \u001b[38;5;241m0\u001b[39m:\n",
      "Cell \u001b[0;32mIn[19], line 38\u001b[0m, in \u001b[0;36mWatson.search\u001b[0;34m(self, category, question, scorer)\u001b[0m\n\u001b[1;32m     36\u001b[0m     \u001b[38;5;28;01mraise\u001b[39;00m e\n\u001b[1;32m     37\u001b[0m \u001b[38;5;28;01mwith\u001b[39;00m \u001b[38;5;28mself\u001b[39m\u001b[38;5;241m.\u001b[39m_index\u001b[38;5;241m.\u001b[39msearcher(weighting\u001b[38;5;241m=\u001b[39mscorer()) \u001b[38;5;28;01mas\u001b[39;00m searcher:\n\u001b[0;32m---> 38\u001b[0m     results \u001b[38;5;241m=\u001b[39m \u001b[43msearcher\u001b[49m\u001b[38;5;241;43m.\u001b[39;49m\u001b[43msearch\u001b[49m\u001b[43m(\u001b[49m\u001b[43mquery\u001b[49m\u001b[43m,\u001b[49m\u001b[43m \u001b[49m\u001b[43mlimit\u001b[49m\u001b[38;5;241;43m=\u001b[39;49m\u001b[38;5;28;43;01mNone\u001b[39;49;00m\u001b[43m)\u001b[49m\n\u001b[1;32m     39\u001b[0m     \u001b[38;5;28;01mif\u001b[39;00m results\u001b[38;5;241m.\u001b[39mscored_length() \u001b[38;5;241m==\u001b[39m \u001b[38;5;241m0\u001b[39m:\n\u001b[1;32m     40\u001b[0m         \u001b[38;5;28;01mreturn\u001b[39;00m \u001b[38;5;28;01mNone\u001b[39;00m\n",
      "File \u001b[0;32m~/.local/lib/python3.11/site-packages/whoosh/searching.py:786\u001b[0m, in \u001b[0;36mSearcher.search\u001b[0;34m(self, q, **kwargs)\u001b[0m\n\u001b[1;32m    784\u001b[0m c \u001b[38;5;241m=\u001b[39m \u001b[38;5;28mself\u001b[39m\u001b[38;5;241m.\u001b[39mcollector(\u001b[38;5;241m*\u001b[39m\u001b[38;5;241m*\u001b[39mkwargs)\n\u001b[1;32m    785\u001b[0m \u001b[38;5;66;03m# Call the lower-level method to run the collector\u001b[39;00m\n\u001b[0;32m--> 786\u001b[0m \u001b[38;5;28;43mself\u001b[39;49m\u001b[38;5;241;43m.\u001b[39;49m\u001b[43msearch_with_collector\u001b[49m\u001b[43m(\u001b[49m\u001b[43mq\u001b[49m\u001b[43m,\u001b[49m\u001b[43m \u001b[49m\u001b[43mc\u001b[49m\u001b[43m)\u001b[49m\n\u001b[1;32m    787\u001b[0m \u001b[38;5;66;03m# Return the results object from the collector\u001b[39;00m\n\u001b[1;32m    788\u001b[0m \u001b[38;5;28;01mreturn\u001b[39;00m c\u001b[38;5;241m.\u001b[39mresults()\n",
      "File \u001b[0;32m~/.local/lib/python3.11/site-packages/whoosh/searching.py:819\u001b[0m, in \u001b[0;36mSearcher.search_with_collector\u001b[0;34m(self, q, collector, context)\u001b[0m\n\u001b[1;32m    816\u001b[0m \u001b[38;5;66;03m# Allow collector to set up based on the top-level information\u001b[39;00m\n\u001b[1;32m    817\u001b[0m collector\u001b[38;5;241m.\u001b[39mprepare(\u001b[38;5;28mself\u001b[39m, q, context)\n\u001b[0;32m--> 819\u001b[0m \u001b[43mcollector\u001b[49m\u001b[38;5;241;43m.\u001b[39;49m\u001b[43mrun\u001b[49m\u001b[43m(\u001b[49m\u001b[43m)\u001b[49m\n",
      "File \u001b[0;32m~/.local/lib/python3.11/site-packages/whoosh/collectors.py:144\u001b[0m, in \u001b[0;36mCollector.run\u001b[0;34m(self)\u001b[0m\n\u001b[1;32m    142\u001b[0m     \u001b[38;5;28;01mfor\u001b[39;00m subsearcher, offset \u001b[38;5;129;01min\u001b[39;00m \u001b[38;5;28mself\u001b[39m\u001b[38;5;241m.\u001b[39mtop_searcher\u001b[38;5;241m.\u001b[39mleaf_searchers():\n\u001b[1;32m    143\u001b[0m         \u001b[38;5;28mself\u001b[39m\u001b[38;5;241m.\u001b[39mset_subsearcher(subsearcher, offset)\n\u001b[0;32m--> 144\u001b[0m         \u001b[38;5;28;43mself\u001b[39;49m\u001b[38;5;241;43m.\u001b[39;49m\u001b[43mcollect_matches\u001b[49m\u001b[43m(\u001b[49m\u001b[43m)\u001b[49m\n\u001b[1;32m    145\u001b[0m \u001b[38;5;28;01mfinally\u001b[39;00m:\n\u001b[1;32m    146\u001b[0m     \u001b[38;5;28mself\u001b[39m\u001b[38;5;241m.\u001b[39mfinish()\n",
      "File \u001b[0;32m~/.local/lib/python3.11/site-packages/whoosh/collectors.py:215\u001b[0m, in \u001b[0;36mCollector.collect_matches\u001b[0;34m(self)\u001b[0m\n\u001b[1;32m    213\u001b[0m collect \u001b[38;5;241m=\u001b[39m \u001b[38;5;28mself\u001b[39m\u001b[38;5;241m.\u001b[39mcollect\n\u001b[1;32m    214\u001b[0m \u001b[38;5;28;01mfor\u001b[39;00m sub_docnum \u001b[38;5;129;01min\u001b[39;00m \u001b[38;5;28mself\u001b[39m\u001b[38;5;241m.\u001b[39mmatches():\n\u001b[0;32m--> 215\u001b[0m     \u001b[43mcollect\u001b[49m\u001b[43m(\u001b[49m\u001b[43msub_docnum\u001b[49m\u001b[43m)\u001b[49m\n",
      "File \u001b[0;32m~/.local/lib/python3.11/site-packages/whoosh/collectors.py:374\u001b[0m, in \u001b[0;36mScoredCollector.collect\u001b[0;34m(self, sub_docnum)\u001b[0m\n\u001b[1;32m    371\u001b[0m     score \u001b[38;5;241m=\u001b[39m \u001b[38;5;28mself\u001b[39m\u001b[38;5;241m.\u001b[39mfinal_fn(\u001b[38;5;28mself\u001b[39m\u001b[38;5;241m.\u001b[39mtop_searcher, global_docnum, score)\n\u001b[1;32m    373\u001b[0m \u001b[38;5;66;03m# Call specialized method on subclass\u001b[39;00m\n\u001b[0;32m--> 374\u001b[0m \u001b[38;5;28;01mreturn\u001b[39;00m \u001b[38;5;28;43mself\u001b[39;49m\u001b[38;5;241;43m.\u001b[39;49m\u001b[43m_collect\u001b[49m\u001b[43m(\u001b[49m\u001b[43mglobal_docnum\u001b[49m\u001b[43m,\u001b[49m\u001b[43m \u001b[49m\u001b[43mscore\u001b[49m\u001b[43m)\u001b[49m\n",
      "File \u001b[0;32m~/.local/lib/python3.11/site-packages/whoosh/collectors.py:519\u001b[0m, in \u001b[0;36mUnlimitedCollector._collect\u001b[0;34m(self, global_docnum, score)\u001b[0m\n\u001b[1;32m    516\u001b[0m     \u001b[38;5;28mself\u001b[39m\u001b[38;5;241m.\u001b[39mreverse \u001b[38;5;241m=\u001b[39m reverse\n\u001b[1;32m    518\u001b[0m \u001b[38;5;66;03m# ScoredCollector.collect calls this\u001b[39;00m\n\u001b[0;32m--> 519\u001b[0m \u001b[38;5;28;01mdef\u001b[39;00m \u001b[38;5;21m_collect\u001b[39m(\u001b[38;5;28mself\u001b[39m, global_docnum, score):\n\u001b[1;32m    520\u001b[0m     \u001b[38;5;28mself\u001b[39m\u001b[38;5;241m.\u001b[39mitems\u001b[38;5;241m.\u001b[39mappend((score, global_docnum))\n\u001b[1;32m    521\u001b[0m     \u001b[38;5;28mself\u001b[39m\u001b[38;5;241m.\u001b[39mdocset\u001b[38;5;241m.\u001b[39madd(global_docnum)\n",
      "\u001b[0;31mKeyboardInterrupt\u001b[0m: "
     ]
    }
   ],
   "source": [
    "mrr_score, pa1_score = watson.test(eval=\"both\")\n",
    "mrr_score, pa1_score"
   ]
  },
  {
   "cell_type": "markdown",
   "id": "2276b193",
   "metadata": {},
   "source": [
    "### TODO\n",
    "- Ask ChatGPT to rerank final results\n",
    "- Finish Watson attempt 2\n",
    "- Update scores in report\n",
    "- Create presentation"
   ]
  }
 ],
 "metadata": {
  "kernelspec": {
   "display_name": "Python 3 (ipykernel)",
   "language": "python",
   "name": "python3"
  },
  "language_info": {
   "codemirror_mode": {
    "name": "ipython",
    "version": 3
   },
   "file_extension": ".py",
   "mimetype": "text/x-python",
   "name": "python",
   "nbconvert_exporter": "python",
   "pygments_lexer": "ipython3",
   "version": "3.11.0"
  }
 },
 "nbformat": 4,
 "nbformat_minor": 5
}
