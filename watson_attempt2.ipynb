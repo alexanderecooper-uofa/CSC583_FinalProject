{
 "cells": [
  {
   "cell_type": "markdown",
   "id": "9cc1f222",
   "metadata": {},
   "source": [
    "# Watson Attempt 2"
   ]
  },
  {
   "cell_type": "markdown",
   "id": "d0faa1e4",
   "metadata": {},
   "source": [
    "### Imports"
   ]
  },
  {
   "cell_type": "code",
   "execution_count": 3,
   "id": "15a2236b",
   "metadata": {},
   "outputs": [],
   "source": [
    "import os\n",
    "import sys\n",
    "import math\n",
    "import pandas as pd\n",
    "import numpy as np\n",
    "import json\n",
    "\n",
    "from whoosh.fields import Schema, TEXT, ID\n",
    "from whoosh.index import create_in, open_dir, exists_in\n",
    "from whoosh.qparser import QueryParser, OrGroup\n",
    "from whoosh.scoring import BM25F\n",
    "from whoosh.analysis import RegexTokenizer, LowercaseFilter, Filter\n",
    "from whoosh.analysis import Filter                                \n",
    "\n",
    "from nltk.stem import WordNetLemmatizer\n",
    "\n",
    "from sklearn.feature_extraction.text import CountVectorizer"
   ]
  },
  {
   "cell_type": "code",
   "execution_count": 4,
   "id": "04b23a31",
   "metadata": {},
   "outputs": [],
   "source": [
    "api_key = os.getenv(\"OPENAI_API_KEY\")\n",
    "if not api_key:\n",
    "    api_key = input(\"Enter your OpenAI API Key: \")"
   ]
  },
  {
   "cell_type": "code",
   "execution_count": 5,
   "id": "47cfaf01",
   "metadata": {},
   "outputs": [],
   "source": [
    "def query_ChatGPT(query):\n",
    "    import requests\n",
    "\n",
    "    model = \"gpt-3.5-turbo-0301\" # TODO\n",
    "\n",
    "    headers = {\n",
    "        \"Content-Type\": \"application/json\",\n",
    "        \"Authorization\": \"Bearer \" + api_key,\n",
    "    }\n",
    "\n",
    "    json_data = {\n",
    "            \"model\": model,\n",
    "            \"temperature\": 0,\n",
    "            \"messages\": [\n",
    "                {\n",
    "                    \"role\": \"user\",\n",
    "                    \"content\": query\n",
    "                }\n",
    "            ]\n",
    "        }\n",
    "\n",
    "    response = requests.post(\"https://api.openai.com/v1/chat/completions\", headers=headers, json=json_data).json()\n",
    "    assert \"choices\" in response, response\n",
    "    assert len(response[\"choices\"]) > 0, response\n",
    "    assert \"message\" in response[\"choices\"][0], response\n",
    "    assert \"content\" in response[\"choices\"][0][\"message\"], response\n",
    "    \n",
    "    return response[\"choices\"][0][\"message\"][\"content\"]"
   ]
  },
  {
   "cell_type": "markdown",
   "id": "524da147",
   "metadata": {},
   "source": [
    "### Load the data"
   ]
  },
  {
   "cell_type": "code",
   "execution_count": 6,
   "id": "4ae6f951",
   "metadata": {},
   "outputs": [],
   "source": [
    "wiki_df = pd.read_pickle(\"./data/wiki.pkl\")\n",
    "wiki_redirects_df = pd.read_pickle(\"./data/wiki_redirects.pkl\")\n",
    "questions_df = pd.read_pickle(\"./data/questions.pkl\")"
   ]
  },
  {
   "cell_type": "markdown",
   "id": "6ee5ef14",
   "metadata": {},
   "source": [
    "### Build the lemmatize filter"
   ]
  },
  {
   "cell_type": "code",
   "execution_count": 7,
   "id": "fb981bf1",
   "metadata": {},
   "outputs": [],
   "source": [
    "lemmatizer = WordNetLemmatizer()\n",
    "\n",
    "class LemmatizeFilter(Filter):\n",
    "    def __call__(self, tokens):\n",
    "        for token in tokens:\n",
    "            token.text = lemmatizer.lemmatize(token.text)\n",
    "            yield token"
   ]
  },
  {
   "cell_type": "markdown",
   "id": "3579a3f5",
   "metadata": {},
   "source": [
    "### Organize the redirect table\n",
    "\n",
    "Organize the redirect table into a more efficient lookup table, where the keys are the index of the page redirected to in wiki_df, and the values are the titles of the redirect pages"
   ]
  },
  {
   "cell_type": "code",
   "execution_count": 8,
   "id": "81616c8e",
   "metadata": {},
   "outputs": [],
   "source": [
    "redirect_lookups = {}\n",
    "for _, row in wiki_redirects_df.iterrows():\n",
    "    if row.redirect_index in redirect_lookups:\n",
    "        redirect_lookups[row.redirect_index].append(row.title)\n",
    "    else:\n",
    "        redirect_lookups[row.redirect_index] = [row.title]"
   ]
  },
  {
   "cell_type": "markdown",
   "id": "ae264d32",
   "metadata": {},
   "source": [
    "### Build the query filter\n",
    "\n",
    "Build the query filter by getting a count of each term in the collection, and dropping terms with high frequency from the query"
   ]
  },
  {
   "cell_type": "code",
   "execution_count": 9,
   "id": "0e2c5612",
   "metadata": {},
   "outputs": [],
   "source": [
    "def normalize_term(term):\n",
    "    return lemmatizer.lemmatize(term.lower())"
   ]
  },
  {
   "cell_type": "code",
   "execution_count": 10,
   "id": "f232c4c6",
   "metadata": {},
   "outputs": [],
   "source": [
    "count_vectorizer = CountVectorizer()\n",
    "count_matrix = count_vectorizer.fit_transform(wiki_df.text)\n",
    "terms = count_vectorizer.get_feature_names_out()\n",
    "total_counts = np.asarray(np.sum(count_matrix, axis=0)).reshape(-1)\n",
    "term_counts = {}\n",
    "for term, count in zip(terms, total_counts):\n",
    "    term = lemmatizer.lemmatize(term)\n",
    "    if term in term_counts:\n",
    "        term_counts[term] += count\n",
    "    else:\n",
    "        term_counts[term] = count\n",
    "\n",
    "del count_matrix, total_counts, terms, count_vectorizer # clean up memory"
   ]
  },
  {
   "cell_type": "code",
   "execution_count": 11,
   "id": "47c86225",
   "metadata": {},
   "outputs": [],
   "source": [
    "def get_term_count(term):\n",
    "    if len(term) <= 1:\n",
    "        return float(\"inf\")\n",
    "    if term.isnumeric():\n",
    "        return 0\n",
    "    if term in term_counts:\n",
    "        return term_counts[term]\n",
    "    else:\n",
    "        return 0"
   ]
  },
  {
   "cell_type": "code",
   "execution_count": 31,
   "id": "13c3880d",
   "metadata": {},
   "outputs": [],
   "source": [
    "query_subset_p = 0.75 # the percentage of the query to keep\n",
    "\n",
    "def filter_query(query):\n",
    "    querys = query.split()\n",
    "    if len(querys) <= 3:\n",
    "        return query\n",
    "\n",
    "    query_counts = sorted([(get_term_count(normalize_term(t)), i) for i, t in enumerate(querys)])\n",
    "    n = math.ceil(len(querys) * query_subset_p)\n",
    "    query_indices = sorted([i for _, i in query_counts[:n]])\n",
    "    return \" \".join([querys[i] for i in query_indices])"
   ]
  },
  {
   "cell_type": "code",
   "execution_count": 25,
   "id": "61bb18bd",
   "metadata": {},
   "outputs": [],
   "source": [
    "with open(\"ChatGPT_template1.txt\", \"r\") as file:\n",
    "    template1 = file.read()\n",
    "def pass_query_through_ChatGPT(query):\n",
    "    gptq = template1 + query\n",
    "    try:\n",
    "        result = query_ChatGPT(gptq)\n",
    "        data = json.loads(result)\n",
    "    except:\n",
    "        print(\"JSON ERROR\", result)\n",
    "        return query\n",
    "    return data[\"question\"]"
   ]
  },
  {
   "cell_type": "code",
   "execution_count": 14,
   "id": "bf905c41",
   "metadata": {},
   "outputs": [],
   "source": [
    "with open(\"ChatGPT_template2.txt\", \"r\") as file:\n",
    "    template2 = file.read()\n",
    "def boost_important_terms(query):\n",
    "    if len(query.split()) <= 3:\n",
    "        return query\n",
    "    \n",
    "    gptq = template2 + query\n",
    "\n",
    "    try:\n",
    "        terms = json.loads(query_ChatGPT(gptq))\n",
    "    except:\n",
    "        return query\n",
    "    \n",
    "    if len(terms) < 3:\n",
    "        return query\n",
    "    \n",
    "    try:\n",
    "        term1 = terms[\"term1\"]\n",
    "        term2 = terms[\"term2\"]\n",
    "        term3 = terms[\"term3\"]\n",
    "    except:\n",
    "        return query\n",
    "    \n",
    "    # boost the importance of the 3 least frequent terms TODO tune the boost level\n",
    "    query = query.replace(term1, term1 + \"^2\")\n",
    "    query = query.replace(term2, term2 + \"^2\")\n",
    "    query = query.replace(term3, term3 + \"^2\")\n",
    "    return query"
   ]
  },
  {
   "cell_type": "code",
   "execution_count": 15,
   "id": "327c32e5",
   "metadata": {},
   "outputs": [],
   "source": [
    "def query_pipeline(query):\n",
    "    query = pass_query_through_ChatGPT(query)\n",
    "    query = filter_query(query)\n",
    "    #query = boost_important_terms(query)\n",
    "    return query"
   ]
  },
  {
   "cell_type": "markdown",
   "id": "548f9a34",
   "metadata": {},
   "source": [
    "### Define the Watson class"
   ]
  },
  {
   "cell_type": "code",
   "execution_count": 27,
   "id": "b85b91b7",
   "metadata": {},
   "outputs": [],
   "source": [
    "class Watson:\n",
    "    def __init__(self):\n",
    "        self.Q = len(questions_df.index)\n",
    "        self._analyzer = self._build_analyzer()\n",
    "        self._index = self._build_index()\n",
    "        self._title_index = self._build_title_index()\n",
    "        self._parser = self._build_parser()\n",
    "\n",
    "    def _build_analyzer(self):\n",
    "        return RegexTokenizer() | LowercaseFilter() | LemmatizeFilter()\n",
    "    \n",
    "    def _build_index(self):\n",
    "        if exists_in(\".index\"):\n",
    "            ix = open_dir(\".index\")\n",
    "        else:\n",
    "            os.mkdir(\".index\")\n",
    "            schema = Schema(title=ID(stored=True),  \n",
    "                    titles=TEXT(analyzer=self._analyzer), \n",
    "                    categories=TEXT(analyzer=self._analyzer), \n",
    "                    content=TEXT(analyzer=self._analyzer))\n",
    "            ix = create_in(\".index\", schema)\n",
    "            with ix.writer() as writer:\n",
    "                for _, row in wiki_df.iterrows():\n",
    "                    writer.add_document(title=row.title, content=row.text)\n",
    "                writer.commit()\n",
    "        return ix\n",
    "    \n",
    "    def _build_title_index(self):\n",
    "        if exists_in(\".title_index\"):\n",
    "            ix = open_dir(\".title_index\")\n",
    "        else:\n",
    "            os.mkdir(\".title_index\")\n",
    "            schema = Schema(title=ID(stored=True),  content=TEXT(analyzer=self._analyzer))\n",
    "            ix = create_in(\".title_index\", schema)\n",
    "            with ix.writer() as writer:\n",
    "                for i, row in wiki_df.iterrows():\n",
    "                    titles = [row.title]\n",
    "                    if i in redirect_lookups:\n",
    "                        titles += redirect_lookups[i]\n",
    "                    writer.add_document(title=row.title, content=\" \".join(titles))\n",
    "                writer.commit()\n",
    "        return ix\n",
    "    \n",
    "    def _build_parser(self):\n",
    "        og = OrGroup.factory(0.9)\n",
    "        return QueryParser(\"content\", schema=self._index.schema, group=og)\n",
    "    \n",
    "    def search(self, category, question, scorer=BM25F):\n",
    "        try:\n",
    "            query = self._parser.parse(f\"{category}^0.5 \" + query_pipeline(question))\n",
    "        except TypeError as e:\n",
    "            print(query_pipeline(question))\n",
    "            raise e\n",
    "        with self._index.searcher(weighting=scorer()) as searcher:\n",
    "            results = searcher.search(query, limit=None)\n",
    "            if results.scored_length() == 0:\n",
    "                return None\n",
    "            return [(r[\"title\"], r.rank+1) for r in results]\n",
    "\n",
    "    def test(self, scorer=BM25F, eval=\"mrr\"):\n",
    "        if eval == \"mrr\":\n",
    "            mrr = 0.0\n",
    "            for _, row in questions_df.iterrows():\n",
    "                results = self.search(row.category, row.question, scorer)\n",
    "                rank = Watson.get_rank(results, row.answer)\n",
    "                if rank > 0:\n",
    "                    mrr += 1 / rank\n",
    "            mrr /= self.Q\n",
    "            return mrr\n",
    "        elif eval == \"p@1\":\n",
    "            correct = 0\n",
    "            for _, row in questions_df.iterrows():\n",
    "                results = self.search(row.category, row.question, scorer)\n",
    "                if Watson.is_correct(results, row.answer):\n",
    "                    correct += 1\n",
    "            return correct / self.Q\n",
    "        else:\n",
    "            raise Exception(f\"unrecognized evaluation type: {eval}\")\n",
    "        \n",
    "    @staticmethod\n",
    "    def get_rank(results, answer):\n",
    "        for answer_variant in answer.split(\"|\"):\n",
    "            for (doc_title, rank) in results:\n",
    "                if doc_title.lower() == answer_variant.lower():\n",
    "                    return rank\n",
    "        return 0\n",
    "    \n",
    "    @staticmethod\n",
    "    def is_correct(results, answer):\n",
    "        guess, _ = results[0]\n",
    "        for answer_variant in answer.split(\"|\"):\n",
    "            if answer_variant.lower() == guess.lower():\n",
    "                return True\n",
    "        return False\n",
    "    \n",
    "    @staticmethod\n",
    "    def get_guess(results):\n",
    "        guess, _ = results[0]\n",
    "        return guess\n",
    "    "
   ]
  },
  {
   "cell_type": "markdown",
   "id": "43eba4d2",
   "metadata": {},
   "source": [
    "### Instantiate Watson"
   ]
  },
  {
   "cell_type": "code",
   "execution_count": 28,
   "id": "95661e01",
   "metadata": {},
   "outputs": [],
   "source": [
    "watson = Watson()"
   ]
  },
  {
   "cell_type": "markdown",
   "id": "faed97a7",
   "metadata": {},
   "source": [
    "### Test Watson"
   ]
  },
  {
   "cell_type": "code",
   "execution_count": 32,
   "id": "8cce1bd4",
   "metadata": {},
   "outputs": [
    {
     "name": "stdout",
     "output_type": "stream",
     "text": [
      "JSON ERROR is located in this city (Cincinnati, Ohio).\n",
      "\n",
      "{\n",
      "    \"question\": \"The Taft Museum of Art is located in this city (Cincinnati, Ohio).\"\n",
      "}\n",
      "JSON ERROR (\"Santa Fe, New Mexico\") is dedicated to the works of this American artist known for her paintings of enlarged flowers and New Mexico landscapes.\n",
      "\n",
      "{\n",
      "    \"question\": \"The Georgia O'Keeffe Museum (located in Santa Fe, New Mexico) is dedicated to the works of this American artist known for her paintings of enlarged flowers and New Mexico landscapes.\"\n",
      "}\n",
      "JSON ERROR is a brand name for this gelatin dessert (a dessert made with a sweetened and flavored processed collagen product). \n",
      "\n",
      "{\n",
      "    \"question\": \"Jell-O is a brand name for this gelatin dessert (a dessert made with a sweetened and flavored processed collagen product).\"\n",
      "}\n",
      "JSON ERROR , dominates the skyline. (Helsinki) \n",
      "\n",
      "{\n",
      "    \"question\": \"What Finnish city is dominated by the Lutheran Cathedral, also known as Tuomiokirkko? (The city is Helsinki)\"\n",
      "}\n",
      "JSON ERROR (protagonist of the book series \"The Southern Vampire Mysteries\") was played by this actress in the TV adaptation (who is Anna Paquin). \n",
      "\n",
      "{\n",
      "    \"question\": \"In 2009, who played Sookie Stackhouse (protagonist of the book series 'The Southern Vampire Mysteries') in the TV adaptation? (Who is Anna Paquin)\"\n",
      "}\n",
      "JSON ERROR is located in this Michigan city.\n",
      "\n",
      "{\n",
      "    \"question\": \"The Kalamazoo Institute of Arts is located in this Michigan city (Kalamazoo).\"\n",
      "}\n",
      "JSON ERROR is located in this state (Idaho).\n",
      "\n",
      "{\n",
      "    \"question\": \"The Sun Valley Center for the Arts is located in this state (Idaho).\"\n",
      "}\n",
      "JSON ERROR was this singer's (Michael Jackson's) second number one hit single in the United States.\n",
      "\n",
      "{\n",
      "    \"question\": \"In 1980, what singer (Michael Jackson) had their second number one hit single in the United States with the song 'Rock With You'? \"\n",
      "}\n",
      "JSON ERROR , this person was not a woman.\n",
      "\n",
      "{\n",
      "    \"question\": \"In 2010: As Sherlock Holmes on film, this person is a man.\"\n",
      "}\n"
     ]
    },
    {
     "data": {
      "text/plain": [
       "0.30372436112296486"
      ]
     },
     "execution_count": 32,
     "metadata": {},
     "output_type": "execute_result"
    }
   ],
   "source": [
    "mrr_score = watson.test(eval=\"mrr\")\n",
    "mrr_score"
   ]
  },
  {
   "cell_type": "code",
   "execution_count": 47,
   "id": "6d46c454",
   "metadata": {},
   "outputs": [
    {
     "ename": "KeyboardInterrupt",
     "evalue": "",
     "output_type": "error",
     "traceback": [
      "\u001b[0;31m---------------------------------------------------------------------------\u001b[0m",
      "\u001b[0;31mKeyboardInterrupt\u001b[0m                         Traceback (most recent call last)",
      "Cell \u001b[0;32mIn[47], line 1\u001b[0m\n\u001b[0;32m----> 1\u001b[0m pa1_score \u001b[38;5;241m=\u001b[39m \u001b[43mwatson\u001b[49m\u001b[38;5;241;43m.\u001b[39;49m\u001b[43mtest\u001b[49m\u001b[43m(\u001b[49m\u001b[38;5;28;43meval\u001b[39;49m\u001b[38;5;241;43m=\u001b[39;49m\u001b[38;5;124;43m\"\u001b[39;49m\u001b[38;5;124;43mp@1\u001b[39;49m\u001b[38;5;124;43m\"\u001b[39;49m\u001b[43m)\u001b[49m\n\u001b[1;32m      2\u001b[0m pa1_score\n",
      "Cell \u001b[0;32mIn[9], line 81\u001b[0m, in \u001b[0;36mWatson.test\u001b[0;34m(self, scorer, eval)\u001b[0m\n\u001b[1;32m     79\u001b[0m correct \u001b[38;5;241m=\u001b[39m \u001b[38;5;241m0\u001b[39m\n\u001b[1;32m     80\u001b[0m \u001b[38;5;28;01mfor\u001b[39;00m _, row \u001b[38;5;129;01min\u001b[39;00m questions_df\u001b[38;5;241m.\u001b[39miterrows():\n\u001b[0;32m---> 81\u001b[0m     results \u001b[38;5;241m=\u001b[39m \u001b[38;5;28;43mself\u001b[39;49m\u001b[38;5;241;43m.\u001b[39;49m\u001b[43msearch\u001b[49m\u001b[43m(\u001b[49m\u001b[43mrow\u001b[49m\u001b[38;5;241;43m.\u001b[39;49m\u001b[43mcategory\u001b[49m\u001b[43m,\u001b[49m\u001b[43m \u001b[49m\u001b[43mrow\u001b[49m\u001b[38;5;241;43m.\u001b[39;49m\u001b[43mquestion\u001b[49m\u001b[43m,\u001b[49m\u001b[43m \u001b[49m\u001b[43mscorer\u001b[49m\u001b[43m)\u001b[49m\n\u001b[1;32m     82\u001b[0m     \u001b[38;5;28;01mif\u001b[39;00m Watson\u001b[38;5;241m.\u001b[39mis_correct(results, row\u001b[38;5;241m.\u001b[39manswer):\n\u001b[1;32m     83\u001b[0m         correct \u001b[38;5;241m+\u001b[39m\u001b[38;5;241m=\u001b[39m \u001b[38;5;241m1\u001b[39m\n",
      "Cell \u001b[0;32mIn[9], line 51\u001b[0m, in \u001b[0;36mWatson.search\u001b[0;34m(self, category, question, scorer)\u001b[0m\n\u001b[1;32m     49\u001b[0m query \u001b[38;5;241m=\u001b[39m \u001b[38;5;28mself\u001b[39m\u001b[38;5;241m.\u001b[39m_parser\u001b[38;5;241m.\u001b[39mparse(\u001b[38;5;124mf\u001b[39m\u001b[38;5;124m\"\u001b[39m\u001b[38;5;132;01m{\u001b[39;00mcategory\u001b[38;5;132;01m}\u001b[39;00m\u001b[38;5;124m^0.5 \u001b[39m\u001b[38;5;124m\"\u001b[39m \u001b[38;5;241m+\u001b[39m filter_query(question))\n\u001b[1;32m     50\u001b[0m \u001b[38;5;28;01mwith\u001b[39;00m \u001b[38;5;28mself\u001b[39m\u001b[38;5;241m.\u001b[39m_index\u001b[38;5;241m.\u001b[39msearcher(weighting\u001b[38;5;241m=\u001b[39mscorer()) \u001b[38;5;28;01mas\u001b[39;00m searcher:\n\u001b[0;32m---> 51\u001b[0m     results \u001b[38;5;241m=\u001b[39m \u001b[43msearcher\u001b[49m\u001b[38;5;241;43m.\u001b[39;49m\u001b[43msearch\u001b[49m\u001b[43m(\u001b[49m\u001b[43mquery\u001b[49m\u001b[43m,\u001b[49m\u001b[43m \u001b[49m\u001b[43mlimit\u001b[49m\u001b[38;5;241;43m=\u001b[39;49m\u001b[38;5;28;43;01mNone\u001b[39;49;00m\u001b[43m)\u001b[49m\n\u001b[1;32m     52\u001b[0m     \u001b[38;5;28;01mif\u001b[39;00m results\u001b[38;5;241m.\u001b[39mscored_length() \u001b[38;5;241m==\u001b[39m \u001b[38;5;241m0\u001b[39m:\n\u001b[1;32m     53\u001b[0m         \u001b[38;5;28;01mreturn\u001b[39;00m \u001b[38;5;28;01mNone\u001b[39;00m\n",
      "File \u001b[0;32m~/.local/lib/python3.11/site-packages/whoosh/searching.py:786\u001b[0m, in \u001b[0;36mSearcher.search\u001b[0;34m(self, q, **kwargs)\u001b[0m\n\u001b[1;32m    784\u001b[0m c \u001b[38;5;241m=\u001b[39m \u001b[38;5;28mself\u001b[39m\u001b[38;5;241m.\u001b[39mcollector(\u001b[38;5;241m*\u001b[39m\u001b[38;5;241m*\u001b[39mkwargs)\n\u001b[1;32m    785\u001b[0m \u001b[38;5;66;03m# Call the lower-level method to run the collector\u001b[39;00m\n\u001b[0;32m--> 786\u001b[0m \u001b[38;5;28;43mself\u001b[39;49m\u001b[38;5;241;43m.\u001b[39;49m\u001b[43msearch_with_collector\u001b[49m\u001b[43m(\u001b[49m\u001b[43mq\u001b[49m\u001b[43m,\u001b[49m\u001b[43m \u001b[49m\u001b[43mc\u001b[49m\u001b[43m)\u001b[49m\n\u001b[1;32m    787\u001b[0m \u001b[38;5;66;03m# Return the results object from the collector\u001b[39;00m\n\u001b[1;32m    788\u001b[0m \u001b[38;5;28;01mreturn\u001b[39;00m c\u001b[38;5;241m.\u001b[39mresults()\n",
      "File \u001b[0;32m~/.local/lib/python3.11/site-packages/whoosh/searching.py:819\u001b[0m, in \u001b[0;36mSearcher.search_with_collector\u001b[0;34m(self, q, collector, context)\u001b[0m\n\u001b[1;32m    816\u001b[0m \u001b[38;5;66;03m# Allow collector to set up based on the top-level information\u001b[39;00m\n\u001b[1;32m    817\u001b[0m collector\u001b[38;5;241m.\u001b[39mprepare(\u001b[38;5;28mself\u001b[39m, q, context)\n\u001b[0;32m--> 819\u001b[0m \u001b[43mcollector\u001b[49m\u001b[38;5;241;43m.\u001b[39;49m\u001b[43mrun\u001b[49m\u001b[43m(\u001b[49m\u001b[43m)\u001b[49m\n",
      "File \u001b[0;32m~/.local/lib/python3.11/site-packages/whoosh/collectors.py:144\u001b[0m, in \u001b[0;36mCollector.run\u001b[0;34m(self)\u001b[0m\n\u001b[1;32m    142\u001b[0m     \u001b[38;5;28;01mfor\u001b[39;00m subsearcher, offset \u001b[38;5;129;01min\u001b[39;00m \u001b[38;5;28mself\u001b[39m\u001b[38;5;241m.\u001b[39mtop_searcher\u001b[38;5;241m.\u001b[39mleaf_searchers():\n\u001b[1;32m    143\u001b[0m         \u001b[38;5;28mself\u001b[39m\u001b[38;5;241m.\u001b[39mset_subsearcher(subsearcher, offset)\n\u001b[0;32m--> 144\u001b[0m         \u001b[38;5;28;43mself\u001b[39;49m\u001b[38;5;241;43m.\u001b[39;49m\u001b[43mcollect_matches\u001b[49m\u001b[43m(\u001b[49m\u001b[43m)\u001b[49m\n\u001b[1;32m    145\u001b[0m \u001b[38;5;28;01mfinally\u001b[39;00m:\n\u001b[1;32m    146\u001b[0m     \u001b[38;5;28mself\u001b[39m\u001b[38;5;241m.\u001b[39mfinish()\n",
      "File \u001b[0;32m~/.local/lib/python3.11/site-packages/whoosh/collectors.py:215\u001b[0m, in \u001b[0;36mCollector.collect_matches\u001b[0;34m(self)\u001b[0m\n\u001b[1;32m    213\u001b[0m collect \u001b[38;5;241m=\u001b[39m \u001b[38;5;28mself\u001b[39m\u001b[38;5;241m.\u001b[39mcollect\n\u001b[1;32m    214\u001b[0m \u001b[38;5;28;01mfor\u001b[39;00m sub_docnum \u001b[38;5;129;01min\u001b[39;00m \u001b[38;5;28mself\u001b[39m\u001b[38;5;241m.\u001b[39mmatches():\n\u001b[0;32m--> 215\u001b[0m     \u001b[43mcollect\u001b[49m\u001b[43m(\u001b[49m\u001b[43msub_docnum\u001b[49m\u001b[43m)\u001b[49m\n",
      "File \u001b[0;32m~/.local/lib/python3.11/site-packages/whoosh/collectors.py:369\u001b[0m, in \u001b[0;36mScoredCollector.collect\u001b[0;34m(self, sub_docnum)\u001b[0m\n\u001b[1;32m    365\u001b[0m \u001b[38;5;28;01mdef\u001b[39;00m \u001b[38;5;21mcollect\u001b[39m(\u001b[38;5;28mself\u001b[39m, sub_docnum):\n\u001b[1;32m    366\u001b[0m     \u001b[38;5;66;03m# Do common work to calculate score and top-level document number\u001b[39;00m\n\u001b[1;32m    367\u001b[0m     global_docnum \u001b[38;5;241m=\u001b[39m \u001b[38;5;28mself\u001b[39m\u001b[38;5;241m.\u001b[39moffset \u001b[38;5;241m+\u001b[39m sub_docnum\n\u001b[0;32m--> 369\u001b[0m     score \u001b[38;5;241m=\u001b[39m \u001b[38;5;28;43mself\u001b[39;49m\u001b[38;5;241;43m.\u001b[39;49m\u001b[43mmatcher\u001b[49m\u001b[38;5;241;43m.\u001b[39;49m\u001b[43mscore\u001b[49m\u001b[43m(\u001b[49m\u001b[43m)\u001b[49m\n\u001b[1;32m    370\u001b[0m     \u001b[38;5;28;01mif\u001b[39;00m \u001b[38;5;28mself\u001b[39m\u001b[38;5;241m.\u001b[39mfinal_fn:\n\u001b[1;32m    371\u001b[0m         score \u001b[38;5;241m=\u001b[39m \u001b[38;5;28mself\u001b[39m\u001b[38;5;241m.\u001b[39mfinal_fn(\u001b[38;5;28mself\u001b[39m\u001b[38;5;241m.\u001b[39mtop_searcher, global_docnum, score)\n",
      "File \u001b[0;32m~/.local/lib/python3.11/site-packages/whoosh/matching/wrappers.py:569\u001b[0m, in \u001b[0;36mCoordMatcher.score\u001b[0;34m(self)\u001b[0m\n\u001b[1;32m    567\u001b[0m score \u001b[38;5;241m=\u001b[39m child\u001b[38;5;241m.\u001b[39mscore()\n\u001b[1;32m    568\u001b[0m matching \u001b[38;5;241m=\u001b[39m \u001b[38;5;241m0\u001b[39m\n\u001b[0;32m--> 569\u001b[0m \u001b[38;5;28;01mfor\u001b[39;00m _ \u001b[38;5;129;01min\u001b[39;00m child\u001b[38;5;241m.\u001b[39mmatching_terms(child\u001b[38;5;241m.\u001b[39mid()):\n\u001b[1;32m    570\u001b[0m     matching \u001b[38;5;241m+\u001b[39m\u001b[38;5;241m=\u001b[39m \u001b[38;5;241m1\u001b[39m\n\u001b[1;32m    572\u001b[0m \u001b[38;5;28;01mreturn\u001b[39;00m \u001b[38;5;28mself\u001b[39m\u001b[38;5;241m.\u001b[39m_sqr(score, matching)\n",
      "File \u001b[0;32m~/.local/lib/python3.11/site-packages/whoosh/matching/mcore.py:133\u001b[0m, in \u001b[0;36mMatcher.matching_terms\u001b[0;34m(self, id)\u001b[0m\n\u001b[1;32m    131\u001b[0m \u001b[38;5;28;01mif\u001b[39;00m t \u001b[38;5;129;01mis\u001b[39;00m \u001b[38;5;28;01mNone\u001b[39;00m:\n\u001b[1;32m    132\u001b[0m     \u001b[38;5;28;01mfor\u001b[39;00m c \u001b[38;5;129;01min\u001b[39;00m \u001b[38;5;28mself\u001b[39m\u001b[38;5;241m.\u001b[39mchildren():\n\u001b[0;32m--> 133\u001b[0m         \u001b[38;5;28;01mfor\u001b[39;00m t \u001b[38;5;129;01min\u001b[39;00m c\u001b[38;5;241m.\u001b[39mmatching_terms(\u001b[38;5;28mid\u001b[39m):\n\u001b[1;32m    134\u001b[0m             \u001b[38;5;28;01myield\u001b[39;00m t\n\u001b[1;32m    135\u001b[0m \u001b[38;5;28;01melse\u001b[39;00m:\n",
      "File \u001b[0;32m~/.local/lib/python3.11/site-packages/whoosh/matching/mcore.py:133\u001b[0m, in \u001b[0;36mMatcher.matching_terms\u001b[0;34m(self, id)\u001b[0m\n\u001b[1;32m    131\u001b[0m \u001b[38;5;28;01mif\u001b[39;00m t \u001b[38;5;129;01mis\u001b[39;00m \u001b[38;5;28;01mNone\u001b[39;00m:\n\u001b[1;32m    132\u001b[0m     \u001b[38;5;28;01mfor\u001b[39;00m c \u001b[38;5;129;01min\u001b[39;00m \u001b[38;5;28mself\u001b[39m\u001b[38;5;241m.\u001b[39mchildren():\n\u001b[0;32m--> 133\u001b[0m         \u001b[38;5;28;01mfor\u001b[39;00m t \u001b[38;5;129;01min\u001b[39;00m c\u001b[38;5;241m.\u001b[39mmatching_terms(\u001b[38;5;28mid\u001b[39m):\n\u001b[1;32m    134\u001b[0m             \u001b[38;5;28;01myield\u001b[39;00m t\n\u001b[1;32m    135\u001b[0m \u001b[38;5;28;01melse\u001b[39;00m:\n",
      "File \u001b[0;32m~/.local/lib/python3.11/site-packages/whoosh/matching/mcore.py:127\u001b[0m, in \u001b[0;36mMatcher.matching_terms\u001b[0;34m(self, id)\u001b[0m\n\u001b[1;32m    125\u001b[0m \u001b[38;5;28;01mif\u001b[39;00m \u001b[38;5;28mid\u001b[39m \u001b[38;5;129;01mis\u001b[39;00m \u001b[38;5;28;01mNone\u001b[39;00m:\n\u001b[1;32m    126\u001b[0m     \u001b[38;5;28mid\u001b[39m \u001b[38;5;241m=\u001b[39m \u001b[38;5;28mself\u001b[39m\u001b[38;5;241m.\u001b[39mid()\n\u001b[0;32m--> 127\u001b[0m \u001b[38;5;28;01melif\u001b[39;00m \u001b[38;5;28mid\u001b[39m \u001b[38;5;241m!=\u001b[39m \u001b[38;5;28;43mself\u001b[39;49m\u001b[38;5;241;43m.\u001b[39;49m\u001b[43mid\u001b[49m\u001b[43m(\u001b[49m\u001b[43m)\u001b[49m:\n\u001b[1;32m    128\u001b[0m     \u001b[38;5;28;01mreturn\u001b[39;00m\n\u001b[1;32m    130\u001b[0m t \u001b[38;5;241m=\u001b[39m \u001b[38;5;28mself\u001b[39m\u001b[38;5;241m.\u001b[39mterm()\n",
      "File \u001b[0;32m~/.local/lib/python3.11/site-packages/whoosh/codec/whoosh3.py:975\u001b[0m, in \u001b[0;36mW3LeafMatcher.id\u001b[0;34m(self)\u001b[0m\n\u001b[1;32m    972\u001b[0m \u001b[38;5;28;01mdef\u001b[39;00m \u001b[38;5;21mis_active\u001b[39m(\u001b[38;5;28mself\u001b[39m):\n\u001b[1;32m    973\u001b[0m     \u001b[38;5;28;01mreturn\u001b[39;00m \u001b[38;5;129;01mnot\u001b[39;00m \u001b[38;5;28mself\u001b[39m\u001b[38;5;241m.\u001b[39m_atend \u001b[38;5;129;01mand\u001b[39;00m \u001b[38;5;28mself\u001b[39m\u001b[38;5;241m.\u001b[39m_i \u001b[38;5;241m<\u001b[39m \u001b[38;5;28mself\u001b[39m\u001b[38;5;241m.\u001b[39m_blocklength\n\u001b[0;32m--> 975\u001b[0m \u001b[38;5;28;01mdef\u001b[39;00m \u001b[38;5;21mid\u001b[39m(\u001b[38;5;28mself\u001b[39m):\n\u001b[1;32m    976\u001b[0m     \u001b[38;5;66;03m# Get the current ID (docnum for regular postings, term for vector)\u001b[39;00m\n\u001b[1;32m    977\u001b[0m \n\u001b[1;32m    978\u001b[0m     \u001b[38;5;66;03m# If we haven't loaded the block IDs yet, load them now\u001b[39;00m\n\u001b[1;32m    979\u001b[0m     \u001b[38;5;28;01mif\u001b[39;00m \u001b[38;5;28mself\u001b[39m\u001b[38;5;241m.\u001b[39m_ids \u001b[38;5;129;01mis\u001b[39;00m \u001b[38;5;28;01mNone\u001b[39;00m:\n\u001b[1;32m    980\u001b[0m         \u001b[38;5;28mself\u001b[39m\u001b[38;5;241m.\u001b[39m_read_ids()\n",
      "\u001b[0;31mKeyboardInterrupt\u001b[0m: "
     ]
    }
   ],
   "source": [
    "pa1_score = watson.test(eval=\"p@1\")\n",
    "pa1_score"
   ]
  }
 ],
 "metadata": {
  "kernelspec": {
   "display_name": "Python 3 (ipykernel)",
   "language": "python",
   "name": "python3"
  },
  "language_info": {
   "codemirror_mode": {
    "name": "ipython",
    "version": 3
   },
   "file_extension": ".py",
   "mimetype": "text/x-python",
   "name": "python",
   "nbconvert_exporter": "python",
   "pygments_lexer": "ipython3",
   "version": "3.11.0rc1"
  }
 },
 "nbformat": 4,
 "nbformat_minor": 5
}
